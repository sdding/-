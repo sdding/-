{
 "cells": [
  {
   "cell_type": "code",
   "execution_count": 2,
   "id": "219797cb",
   "metadata": {},
   "outputs": [
    {
     "data": {
      "text/plain": [
       "'\\n문자열 집합 S\\nex) S = {\"www\", \"xman\", \"yman\"}\\n\\n임의의 문자열이 N개 주어졌을때 각 임의의 문자열 내에\\n집합 S에 속하는 문자열이 존재하는지 판별하시오\\n'"
      ]
     },
     "execution_count": 2,
     "metadata": {},
     "output_type": "execute_result"
    }
   ],
   "source": [
    "# 문자열 매칭 알고리즘 구현\n",
    "'''\n",
    "문자열 집합 S\n",
    "ex) S = {\"www\", \"xman\", \"yman\"}\n",
    "\n",
    "임의의 문자열이 N개 주어졌을때 각 임의의 문자열 내에\n",
    "집합 S에 속하는 문자열이 존재하는지 판별하시오\n",
    "'''"
   ]
  },
  {
   "cell_type": "code",
   "execution_count": 3,
   "id": "ac4d6bc7",
   "metadata": {},
   "outputs": [],
   "source": [
    "def Question1():\n",
    "    N = input(\"N = \")\n",
    "    S = []\n",
    "    for i in range(int(N)):\n",
    "        s = input(\"원소 = \")\n",
    "        S.append(s)\n",
    "\n",
    "    Q = input(\"Q = \")\n",
    "    X = []\n",
    "    for i in range(int(Q)):\n",
    "        x = input(\"X = \")\n",
    "        X.append(x)\n",
    "\n",
    "    for x in X:\n",
    "        print(\"================\")\n",
    "        for i in S:\n",
    "            if i in x:\n",
    "                print(\"YES\")\n",
    "            else:\n",
    "                print(\"NO\")"
   ]
  },
  {
   "cell_type": "code",
   "execution_count": 4,
   "id": "8b5fdf39",
   "metadata": {},
   "outputs": [
    {
     "name": "stdout",
     "output_type": "stream",
     "text": [
      "N = 9\n",
      "원소 = aaa\n",
      "원소 = aaaabb\n",
      "원소 = aabbcc\n",
      "원소 = abb\n",
      "원소 = bcc\n",
      "원소 = bbcc\n",
      "원소 = aabbccdd\n",
      "원소 = aaabb\n",
      "원소 = cccd\n",
      "Q = 1\n",
      "X = aaaabbaabbccdd\n",
      "================\n",
      "YES\n",
      "YES\n",
      "YES\n",
      "YES\n",
      "YES\n",
      "YES\n",
      "YES\n",
      "YES\n",
      "NO\n"
     ]
    }
   ],
   "source": [
    "Question1()"
   ]
  },
  {
   "cell_type": "code",
   "execution_count": 5,
   "id": "d06d8335",
   "metadata": {},
   "outputs": [],
   "source": [
    "def Question2():\n",
    "    N = input(\"N = \")\n",
    "    S = []\n",
    "    for i in range(int(N)):\n",
    "        s = input(\"원소 = \")\n",
    "        S.append(s)\n",
    "\n",
    "    Q = input(\"Q = \")\n",
    "    X = []\n",
    "    for i in range(int(Q)):\n",
    "        x = input(\"X = \")\n",
    "        X.append(x)\n",
    "\n",
    "    for x in X:\n",
    "        print(\"================\")\n",
    "        for i in S:\n",
    "            if x.find(i) != -1:\n",
    "                print(\"#pos =\",x.find(i), \"pattern =\", i)"
   ]
  },
  {
   "cell_type": "code",
   "execution_count": 6,
   "id": "72848496",
   "metadata": {},
   "outputs": [
    {
     "name": "stdout",
     "output_type": "stream",
     "text": [
      "N = 9\n",
      "원소 = aaa\n",
      "원소 = aaaabb\n",
      "원소 = aabbcc\n",
      "원소 = abb\n",
      "원소 = bcc\n",
      "원소 = bbcc\n",
      "원소 = aabbccdd\n",
      "원소 = aaabb\n",
      "원소 = cccd\n",
      "Q = 1\n",
      "X = aaaabbaabbccdd\n",
      "================\n",
      "#pos = 0 pattern = aaa\n",
      "#pos = 0 pattern = aaaabb\n",
      "#pos = 6 pattern = aabbcc\n",
      "#pos = 3 pattern = abb\n",
      "#pos = 9 pattern = bcc\n",
      "#pos = 8 pattern = bbcc\n",
      "#pos = 6 pattern = aabbccdd\n",
      "#pos = 1 pattern = aaabb\n"
     ]
    }
   ],
   "source": [
    "Question2()"
   ]
  },
  {
   "cell_type": "code",
   "execution_count": 8,
   "id": "f9781dc8",
   "metadata": {},
   "outputs": [],
   "source": [
    "def Question3():\n",
    "    N = input(\"N = \")\n",
    "    S = []\n",
    "    for i in range(int(N)):\n",
    "        s = input(\"원소 = \")\n",
    "        S.append(s)\n",
    "\n",
    "    Q = input(\"Q = \")\n",
    "    X = []\n",
    "    for i in range(int(Q)):\n",
    "        x = input(\"X = \")\n",
    "        X.append(x)\n",
    "\n",
    "    for x in X:\n",
    "        print(\"================\")\n",
    "        for i in S:\n",
    "            if x.find(i) != -1:\n",
    "                for n in range(len(x)):\n",
    "                    if x.find(i, n) == n:\n",
    "                        print(\"#pos =\",n, \",pattern =\", i)"
   ]
  },
  {
   "cell_type": "code",
   "execution_count": 9,
   "id": "11648f2d",
   "metadata": {},
   "outputs": [
    {
     "name": "stdout",
     "output_type": "stream",
     "text": [
      "N = 9\n",
      "원소 = aaa\n",
      "원소 = aaaabb\n",
      "원소 = aabbcc\n",
      "원소 = abb\n",
      "원소 = bcc\n",
      "원소 = bbcc\n",
      "원소 = aabbccdd\n",
      "원소 = aaabb\n",
      "원소 = cccd\n",
      "Q = 1\n",
      "X = aaaabbaabbccdd\n",
      "================\n",
      "#pos = 0 ,pattern = aaa\n",
      "#pos = 1 ,pattern = aaa\n",
      "#pos = 0 ,pattern = aaaabb\n",
      "#pos = 6 ,pattern = aabbcc\n",
      "#pos = 3 ,pattern = abb\n",
      "#pos = 7 ,pattern = abb\n",
      "#pos = 9 ,pattern = bcc\n",
      "#pos = 8 ,pattern = bbcc\n",
      "#pos = 6 ,pattern = aabbccdd\n",
      "#pos = 1 ,pattern = aaabb\n"
     ]
    }
   ],
   "source": [
    "Question3()"
   ]
  }
 ],
 "metadata": {
  "kernelspec": {
   "display_name": "Python 3",
   "language": "python",
   "name": "python3"
  },
  "language_info": {
   "codemirror_mode": {
    "name": "ipython",
    "version": 3
   },
   "file_extension": ".py",
   "mimetype": "text/x-python",
   "name": "python",
   "nbconvert_exporter": "python",
   "pygments_lexer": "ipython3",
   "version": "3.8.8"
  }
 },
 "nbformat": 4,
 "nbformat_minor": 5
}

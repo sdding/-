{
  "cells": [
    {
      "cell_type": "markdown",
      "metadata": {
        "id": "592U6lXs3d2t"
      },
      "source": [
        "# Week2_4 Assignment\n",
        "\n",
        "## [BASIC](#Basic) \n",
        "- 커스텀 모듈(`helper.py`)에서 **클래스와 함수를 임포트**할 수 있다.\n",
        "- **autograd**의 개념 복습\n",
        "\n",
        "\n",
        "## [CHALLENGE](#Challenge)\n",
        "- train() 함수에 **epoch, scheduler, grad_clipping**을 추가할 수 있다.\n",
        "- **validate() 함수를 구현**할 수 있다.\n",
        "\n",
        "\n",
        "## [ADVANCED](#Advanced)\n",
        "- train() 함수를 사용해 데이터를 **4 epoch 학습**할 수 있다. \n",
        "- **predict 함수를 구현**할 수 있다. \n",
        "- **evaluation metric 구현**할 수 있다. \n",
        "    - accuracy\n",
        "\n",
        "\n",
        "\n",
        "### Reference\n",
        "- [Pytorch Autograd Explain official document](https://pytorch.org/tutorials/beginner/blitz/autograd_tutorial.html)"
      ]
    },
    {
      "cell_type": "code",
      "execution_count": 1,
      "metadata": {
        "ExecuteTime": {
          "end_time": "2022-02-02T04:01:47.370876Z",
          "start_time": "2022-02-02T04:01:46.520392Z"
        },
        "id": "KSX-wQA1RD1h"
      },
      "outputs": [],
      "source": [
        "import os\n",
        "import sys\n",
        "import pandas as pd\n",
        "import numpy as np \n",
        "import torch\n",
        "import random"
      ]
    },
    {
      "cell_type": "code",
      "execution_count": 2,
      "metadata": {
        "ExecuteTime": {
          "end_time": "2022-02-02T04:01:47.375658Z",
          "start_time": "2022-02-02T04:01:47.372242Z"
        },
        "id": "MH7RJjtZXOHf"
      },
      "outputs": [],
      "source": [
        "# set seed\n",
        "seed = 7777\n",
        "random.seed(seed)\n",
        "torch.manual_seed(seed)\n",
        "torch.cuda.manual_seed_all(seed)"
      ]
    },
    {
      "cell_type": "code",
      "execution_count": 3,
      "metadata": {
        "ExecuteTime": {
          "end_time": "2022-01-31T13:07:00.849353Z",
          "start_time": "2022-01-31T13:06:56.187962Z"
        },
        "collapsed": true,
        "id": "62plMahMWr0U",
        "outputId": "f550870e-3441-48a3-f851-ed58b0e91d48",
        "colab": {
          "base_uri": "https://localhost:8080/"
        }
      },
      "outputs": [
        {
          "output_type": "stream",
          "name": "stdout",
          "text": [
            "Installing collected packages: pyyaml, tokenizers, sacremoses, huggingface-hub, transformers\n",
            "  Attempting uninstall: pyyaml\n",
            "    Found existing installation: PyYAML 3.13\n",
            "    Uninstalling PyYAML-3.13:\n",
            "      Successfully uninstalled PyYAML-3.13\n",
            "Successfully installed huggingface-hub-0.4.0 pyyaml-6.0 sacremoses-0.0.49 tokenizers-0.11.6 transformers-4.17.0\n"
          ]
        }
      ],
      "source": [
        "!pip install transformers"
      ]
    },
    {
      "cell_type": "code",
      "execution_count": 4,
      "metadata": {
        "colab": {
          "base_uri": "https://localhost:8080/"
        },
        "id": "6WagJcj-Ud4L",
        "outputId": "81949b97-e46e-4c5d-f0f1-33a06002fd5b"
      },
      "outputs": [
        {
          "output_type": "stream",
          "name": "stdout",
          "text": [
            "Mounted at /content/drive\n"
          ]
        }
      ],
      "source": [
        "from google.colab import drive\n",
        "drive.mount('/content/drive')"
      ]
    },
    {
      "cell_type": "code",
      "execution_count": 5,
      "metadata": {
        "id": "qnETqIqdVApF"
      },
      "outputs": [],
      "source": [
        "# helper.py 모듈 경로를 입력\n",
        "sys.path.append('/content/helper.py')"
      ]
    },
    {
      "cell_type": "code",
      "execution_count": 6,
      "metadata": {
        "ExecuteTime": {
          "end_time": "2022-02-02T04:01:49.735578Z",
          "start_time": "2022-02-02T04:01:49.475969Z"
        },
        "id": "N84mZeYMUFxJ",
        "colab": {
          "base_uri": "https://localhost:8080/",
          "height": 145,
          "referenced_widgets": [
            "6d8d70fbbad54fdbb836b006c2f4d560",
            "d137adcba9ba49058ead09b18ffafa81",
            "8d47934f5c36443bb0857fa0883514f6",
            "c172d1c412fc436aa3bddac8666bd8a6",
            "25c7287c55e145fe842736788aac9370",
            "5bbd8b879dbc4cbeab3f23b1cc38458d",
            "b384a8f4620345f486510e87cc8d1e9d",
            "e3a00221fde848dcb5fb0cd7e2a8bf40",
            "650f79f9a58e4029943ff31820ba8901",
            "b10cb72d506f4d6f9fdbab173f9e9373",
            "e5235b04e195438e83a71f7610a71941",
            "379ec19112404c73aac6b5c51e4f4dd3",
            "91b17401fe26410da1eae54af3a3f4d6",
            "9fea121ede094354a7a91d69360e6097",
            "4e2f57f87d8e4e8681c5df198fb091e9",
            "3f207a4d71324415a984941b373fe45c",
            "67cf7515d490406f80cab51be29c3e92",
            "ae396d1646e441ddaca7866f6c95dea2",
            "28197bd8bb4c45128cb1f0beb9c093f0",
            "e85e9dfc195c479a8aeb5ca5d5dfd105",
            "f08a984d34d649cdb001eada6a3b9846",
            "974a90def4b047ff8943774dc852d65d",
            "5c6ece06c1174be49669c22a85496f61",
            "9350b205280d447d8755c95fbc7b1dca",
            "cc231d55ef3946c08ad8b02842e612f5",
            "88882f13aeff445d9138f3af48922fe8",
            "63ed5911731241318f3e9186a0403e93",
            "16398981379f4fcaa81afde1f6c2c63b",
            "1abef988718840ffa4edded81a5ac7ca",
            "f96828945d6f4c33839381a127af877e",
            "7ca79f61e5dc456288f7a27ce21be886",
            "78be2923ca2b4c08bb06a5cb95ba5d4b",
            "88f7fc5d08a841d48060e309732ac0d4",
            "0c731aac31db40068e288d5279eabc97",
            "025ccfb721b74191801db0ba9888f1f1",
            "3fc796c372b44b739fdd4edf1c18c28d",
            "4c102bf6e8da479fa471ce0f87ca446b",
            "172aa9b1f6c840c9b99e34ddb31fe63f",
            "c4e92522534f41f2bbb3f0664560ba18",
            "b27c922042d242a99288470b25b5fb25",
            "2c0f0c83e4be409ebe036446610cde67",
            "f1c3e397881a4727a2880bda1f58b13d",
            "a86a5f01982a4a4a8ed7a2ddcc3c4e1f",
            "bbe6bffdede246b3b25648ffdbd33967"
          ]
        },
        "outputId": "4000f93e-b356-4528-af24-0cc56ff1b74a"
      },
      "outputs": [
        {
          "output_type": "display_data",
          "data": {
            "text/plain": [
              "Downloading:   0%|          | 0.00/243k [00:00<?, ?B/s]"
            ],
            "application/vnd.jupyter.widget-view+json": {
              "version_major": 2,
              "version_minor": 0,
              "model_id": "6d8d70fbbad54fdbb836b006c2f4d560"
            }
          },
          "metadata": {}
        },
        {
          "output_type": "display_data",
          "data": {
            "text/plain": [
              "Downloading:   0%|          | 0.00/125 [00:00<?, ?B/s]"
            ],
            "application/vnd.jupyter.widget-view+json": {
              "version_major": 2,
              "version_minor": 0,
              "model_id": "379ec19112404c73aac6b5c51e4f4dd3"
            }
          },
          "metadata": {}
        },
        {
          "output_type": "display_data",
          "data": {
            "text/plain": [
              "Downloading:   0%|          | 0.00/289 [00:00<?, ?B/s]"
            ],
            "application/vnd.jupyter.widget-view+json": {
              "version_major": 2,
              "version_minor": 0,
              "model_id": "5c6ece06c1174be49669c22a85496f61"
            }
          },
          "metadata": {}
        },
        {
          "output_type": "display_data",
          "data": {
            "text/plain": [
              "Downloading:   0%|          | 0.00/425 [00:00<?, ?B/s]"
            ],
            "application/vnd.jupyter.widget-view+json": {
              "version_major": 2,
              "version_minor": 0,
              "model_id": "0c731aac31db40068e288d5279eabc97"
            }
          },
          "metadata": {}
        }
      ],
      "source": [
        "# helper 모듈을 import하면 이전에 구현했던 다양한 함수 및 클래스를 사용할 수 있음\n",
        "from helper import *\n",
        "from torch.utils.data import RandomSampler, SequentialSampler, random_split"
      ]
    },
    {
      "cell_type": "code",
      "execution_count": 7,
      "metadata": {
        "ExecuteTime": {
          "end_time": "2022-02-02T04:01:49.771743Z",
          "start_time": "2022-02-02T04:01:49.736866Z"
        },
        "colab": {
          "base_uri": "https://localhost:8080/"
        },
        "id": "oR5EWmh5UFxK",
        "outputId": "eb032720-0940-49b5-a1a8-ed9e5648adf6"
      },
      "outputs": [
        {
          "output_type": "stream",
          "name": "stdout",
          "text": [
            "# available GPUs : 1\n",
            "GPU name : Tesla T4\n",
            "device: cuda\n"
          ]
        }
      ],
      "source": [
        "# device\n",
        "device = set_device()\n",
        "print(f\"device: {device}\")"
      ]
    },
    {
      "cell_type": "markdown",
      "metadata": {
        "id": "moAKpaWPaMel"
      },
      "source": [
        "## Basic"
      ]
    },
    {
      "cell_type": "markdown",
      "metadata": {
        "id": "esJeUdYCaMem"
      },
      "source": [
        "### 모듈에서 클래스와 함수를 임포트해 다음을 구현\n",
        "- train_dataset, train_dataloader\n",
        "- valid_dataset, valid_dataloader\n",
        "- test_dataset, test_dataloader"
      ]
    },
    {
      "cell_type": "code",
      "execution_count": 8,
      "metadata": {
        "ExecuteTime": {
          "end_time": "2022-02-02T04:01:53.037044Z",
          "start_time": "2022-02-02T04:01:52.707669Z"
        },
        "colab": {
          "base_uri": "https://localhost:8080/"
        },
        "id": "KVo5dPnmUFxK",
        "outputId": "eb7b8a4f-3db2-4622-e443-038da2dcfdf7"
      },
      "outputs": [
        {
          "output_type": "stream",
          "name": "stdout",
          "text": [
            "--2022-03-17 15:52:55--  https://raw.githubusercontent.com/ChristinaROK/PreOnboarding_AI_assets/e56006adfac42f8a2975db0ebbe60eacbe1c6b11/data/sample_df.csv\n",
            "Resolving raw.githubusercontent.com (raw.githubusercontent.com)... 185.199.110.133, 185.199.109.133, 185.199.111.133, ...\n",
            "Connecting to raw.githubusercontent.com (raw.githubusercontent.com)|185.199.110.133|:443... connected.\n",
            "HTTP request sent, awaiting response... 200 OK\n",
            "Length: 971625 (949K) [text/plain]\n",
            "Saving to: ‘sample_df.csv’\n",
            "\n",
            "sample_df.csv       100%[===================>] 948.85K  --.-KB/s    in 0.03s   \n",
            "\n",
            "2022-03-17 15:52:56 (31.4 MB/s) - ‘sample_df.csv’ saved [971625/971625]\n",
            "\n"
          ]
        }
      ],
      "source": [
        "# train dataframe 다운로드\n",
        "!wget https://raw.githubusercontent.com/ChristinaROK/PreOnboarding_AI_assets/e56006adfac42f8a2975db0ebbe60eacbe1c6b11/data/sample_df.csv"
      ]
    },
    {
      "cell_type": "code",
      "source": [
        "# test dataframe 다운로드\n",
        "!wget https://raw.githubusercontent.com/ChristinaROK/PreOnboarding_AI_assets/main/data/sample_df_test.csv"
      ],
      "metadata": {
        "colab": {
          "base_uri": "https://localhost:8080/"
        },
        "id": "cJMGVwnTQlwa",
        "outputId": "9ea1d7cc-cee8-4ce8-816a-c53d4fbed9bf"
      },
      "execution_count": 9,
      "outputs": [
        {
          "output_type": "stream",
          "name": "stdout",
          "text": [
            "--2022-03-17 15:52:56--  https://raw.githubusercontent.com/ChristinaROK/PreOnboarding_AI_assets/main/data/sample_df_test.csv\n",
            "Resolving raw.githubusercontent.com (raw.githubusercontent.com)... 185.199.108.133, 185.199.109.133, 185.199.111.133, ...\n",
            "Connecting to raw.githubusercontent.com (raw.githubusercontent.com)|185.199.108.133|:443... connected.\n",
            "HTTP request sent, awaiting response... 200 OK\n",
            "Length: 101383 (99K) [text/plain]\n",
            "Saving to: ‘sample_df_test.csv’\n",
            "\n",
            "sample_df_test.csv  100%[===================>]  99.01K  --.-KB/s    in 0.01s   \n",
            "\n",
            "2022-03-17 15:52:56 (9.04 MB/s) - ‘sample_df_test.csv’ saved [101383/101383]\n",
            "\n"
          ]
        }
      ]
    },
    {
      "cell_type": "code",
      "source": [
        "# 학습 & 평가 데이터셋 로드\n",
        "# 학습 및 평가 샘플 데이터 개수는 각각 10,000개, 1,000개\n",
        "\n",
        "df_train = pd.read_csv('sample_df.csv')\n",
        "df_test = pd.read_csv('sample_df_test.csv')\n",
        "\n",
        "print(f\"train shape : {df_train.shape}\")\n",
        "print(f\"test shape : {df_test.shape}\")"
      ],
      "metadata": {
        "colab": {
          "base_uri": "https://localhost:8080/"
        },
        "id": "w-0PnHWzQm4i",
        "outputId": "39dc4f9e-5e37-4e12-b4fc-27497f936e63"
      },
      "execution_count": 10,
      "outputs": [
        {
          "output_type": "stream",
          "name": "stdout",
          "text": [
            "train shape : (10000, 3)\n",
            "test shape : (1000, 3)\n"
          ]
        }
      ]
    },
    {
      "cell_type": "code",
      "execution_count": 11,
      "metadata": {
        "ExecuteTime": {
          "end_time": "2022-02-02T04:01:53.085720Z",
          "start_time": "2022-02-02T04:01:53.081413Z"
        },
        "colab": {
          "base_uri": "https://localhost:8080/"
        },
        "id": "Ql82Ew2VUFxM",
        "outputId": "c218e312-a6c5-4962-b8d8-e4b2c6b40fed"
      },
      "outputs": [
        {
          "output_type": "stream",
          "name": "stdout",
          "text": [
            "Train Dataset len: 10000\n",
            "Train Dataset 1st element: ('나 이거 더빙을 누가하는지 모르고 봤는데 왠지 더빙이 구리더라...더빙이 너무 별로였음.', 0)\n",
            "Test Dataset len: 1000\n",
            "Test Dataset 1st element: ('신용문객잔 보고 후속편인줄 알고 봤더만 완전 개판이네 18.. 이련결 그냥 절에나 쳐 들어 가라.. 회오리에서 싸우는 신 참 가관이더라 .. 서극도 완전 쓰레기 감독이 다 됐구나.. 액션도 쓰레기고 배우들 연기도 참 가관이더라 18', 0)\n"
          ]
        }
      ],
      "source": [
        "# Dataset 구현\n",
        "train_dataset = CustomDataset(df_train.document.to_list(), df_train.label.to_list())\n",
        "test_dataset = CustomDataset(df_test.document.to_list(), df_test.label.to_list())\n",
        "print(f\"Train Dataset len: {len(train_dataset)}\")\n",
        "print(f\"Train Dataset 1st element: {train_dataset[0]}\")\n",
        "\n",
        "print(f\"Test Dataset len: {len(test_dataset)}\")\n",
        "print(f\"Test Dataset 1st element: {test_dataset[0]}\")\n"
      ]
    },
    {
      "cell_type": "code",
      "execution_count": 12,
      "metadata": {
        "ExecuteTime": {
          "end_time": "2022-02-02T04:01:53.152070Z",
          "start_time": "2022-02-02T04:01:53.145410Z"
        },
        "colab": {
          "base_uri": "https://localhost:8080/"
        },
        "id": "7WUY6h8WUFxM",
        "outputId": "171ee421-7528-4908-90c7-bd360c997b29"
      },
      "outputs": [
        {
          "output_type": "stream",
          "name": "stdout",
          "text": [
            "Train dataset len: 9000\n",
            "Valid dataset len: 1000\n"
          ]
        }
      ],
      "source": [
        "# Train Dataset을 학습과 검증 셋으로 분리\n",
        "n_train_sample = df_train.shape[0]\n",
        "\n",
        "n_train = int(n_train_sample*0.9)\n",
        "n_valid = n_train_sample - n_train #int(n_train_sample*0.1)\n",
        "train_dataset, valid_dataset = random_split(train_dataset, [n_train, n_valid])\n",
        "\n",
        "print(f\"Train dataset len: {len(train_dataset)}\")\n",
        "print(f\"Valid dataset len: {len(valid_dataset)}\")"
      ]
    },
    {
      "cell_type": "code",
      "execution_count": 13,
      "metadata": {
        "ExecuteTime": {
          "end_time": "2022-02-02T04:01:53.268838Z",
          "start_time": "2022-02-02T04:01:53.263780Z"
        },
        "colab": {
          "base_uri": "https://localhost:8080/"
        },
        "id": "H5nc7SpTUFxM",
        "outputId": "be2d4643-3975-4034-e335-490962654b91"
      },
      "outputs": [
        {
          "output_type": "stream",
          "name": "stdout",
          "text": [
            "Train dataloader # steps: 282\n",
            "Valid dataloader # steps: 16\n",
            "Test dataloader # steps: 16\n"
          ]
        }
      ],
      "source": [
        "# DataLoader 구현\n",
        "train_batch_size = 32\n",
        "valid_batch_size = 64\n",
        "\n",
        "train_dataloader = DataLoader(\n",
        "    train_dataset,\n",
        "    batch_size = train_batch_size,\n",
        "    sampler = RandomSampler(train_dataset),\n",
        "    collate_fn = custom_collate_fn\n",
        ")\n",
        "\n",
        "valid_dataloader = DataLoader(\n",
        "    valid_dataset,\n",
        "    batch_size = valid_batch_size,\n",
        "    sampler = SequentialSampler(valid_dataset),\n",
        "    collate_fn = custom_collate_fn\n",
        ")\n",
        "\n",
        "test_dataloader = DataLoader(\n",
        "    test_dataset,\n",
        "    batch_size = valid_batch_size,\n",
        "    sampler = SequentialSampler(test_dataset),\n",
        "    collate_fn = custom_collate_fn\n",
        ")\n",
        "print(f\"Train dataloader # steps: {len(train_dataloader)}\")\n",
        "print(f\"Valid dataloader # steps: {len(valid_dataloader)}\")\n",
        "print(f\"Test dataloader # steps: {len(test_dataloader)}\")"
      ]
    },
    {
      "cell_type": "markdown",
      "metadata": {
        "id": "9kEgqvBIUFxN"
      },
      "source": [
        "### `auto_grad` 개념 복습\n",
        "- torch의 `auto_grad` 기능\n",
        "    - pytorch는 `requires_grad` 파리미터의 값이 True인 텐서에 한해서 미분값을 자동으로 계산한다.\n",
        "    - 미분값은 `loss.backward()` 가 호출될 때 자동으로 계산된다."
      ]
    },
    {
      "cell_type": "code",
      "execution_count": 15,
      "metadata": {
        "ExecuteTime": {
          "end_time": "2022-01-31T13:45:23.502936Z",
          "start_time": "2022-01-31T13:45:20.029987Z"
        },
        "colab": {
          "base_uri": "https://localhost:8080/",
          "height": 123,
          "referenced_widgets": [
            "7d30aaae179942da9c43c6c178a11d1f",
            "8c4e337d2b27499db076f880ba4afd43",
            "abe558894d5a4303be5a428df9b396d3",
            "a7948f6553984075bb5bf8b47e49f84b",
            "d50c1bfdda094c808a35e751a6c86859",
            "39ecd40dde9a4b409db99748c0c08d7e",
            "fa7ad33c43054af3b967703e9f12fc28",
            "de6fcbf05fc84652ba6005876d5d0935",
            "87e22463b1584d73b3f91652e30ac231",
            "201dc5002e3f4e09940c656639e53723",
            "b688d5ef95194c8fa40fffbca6f52de3"
          ]
        },
        "id": "oYjYpQ1DUFxN",
        "outputId": "0ff8c2ce-0882-4101-84ac-162964611e7b"
      },
      "outputs": [
        {
          "output_type": "display_data",
          "data": {
            "text/plain": [
              "Downloading:   0%|          | 0.00/424M [00:00<?, ?B/s]"
            ],
            "application/vnd.jupyter.widget-view+json": {
              "version_major": 2,
              "version_minor": 0,
              "model_id": "7d30aaae179942da9c43c6c178a11d1f"
            }
          },
          "metadata": {}
        },
        {
          "output_type": "stream",
          "name": "stderr",
          "text": [
            "Some weights of the model checkpoint at klue/bert-base were not used when initializing BertModel: ['cls.predictions.decoder.weight', 'cls.predictions.transform.dense.bias', 'cls.predictions.bias', 'cls.predictions.decoder.bias', 'cls.predictions.transform.dense.weight', 'cls.predictions.transform.LayerNorm.weight', 'cls.seq_relationship.bias', 'cls.predictions.transform.LayerNorm.bias', 'cls.seq_relationship.weight']\n",
            "- This IS expected if you are initializing BertModel from the checkpoint of a model trained on another task or with another architecture (e.g. initializing a BertForSequenceClassification model from a BertForPreTraining model).\n",
            "- This IS NOT expected if you are initializing BertModel from the checkpoint of a model that you expect to be exactly identical (initializing a BertForSequenceClassification model from a BertForSequenceClassification model).\n"
          ]
        }
      ],
      "source": [
        "# fine-tuning 모델 로드\n",
        "model_freeze = CustomClassifier(hidden_size=768, n_label=2)"
      ]
    },
    {
      "cell_type": "markdown",
      "metadata": {
        "id": "BF9Pn0F-aMes"
      },
      "source": [
        "### `auto_grad` 개념 및 모델 구조 복습을 위해 다음 항목에 답해 보자\n",
        "- `bert.encoder.layer.0.attention.self.query.weight` 텐서의 gradient는 True인 상태인가?\n",
        "> 네\n",
        "- `classifier.0.weight` 텐서의 shape은? \n",
        "> (32,768)\n",
        "- `classifier.0.weight` 텐서는 freeze 상태인가 ? \n",
        "> 아니오\n",
        "- `classifier.0.weight` 텐서의 gradient 값은 무엇인가? \n",
        "> None "
      ]
    },
    {
      "cell_type": "code",
      "execution_count": 16,
      "metadata": {
        "ExecuteTime": {
          "end_time": "2022-01-31T13:45:34.604914Z",
          "start_time": "2022-01-31T13:45:34.586711Z"
        },
        "colab": {
          "base_uri": "https://localhost:8080/"
        },
        "id": "XxNFh8KZUFxN",
        "outputId": "a5924aef-99c3-40b4-9f5a-1eb514648aec"
      },
      "outputs": [
        {
          "output_type": "stream",
          "name": "stdout",
          "text": [
            "Param Name: bert.embeddings.word_embeddings.weight, Shape: torch.Size([32000, 768]), Grad: True\n",
            "Param Name: bert.embeddings.position_embeddings.weight, Shape: torch.Size([512, 768]), Grad: True\n",
            "Param Name: bert.embeddings.token_type_embeddings.weight, Shape: torch.Size([2, 768]), Grad: True\n",
            "Param Name: bert.embeddings.LayerNorm.weight, Shape: torch.Size([768]), Grad: True\n",
            "Param Name: bert.embeddings.LayerNorm.bias, Shape: torch.Size([768]), Grad: True\n",
            "Param Name: bert.encoder.layer.0.attention.self.query.weight, Shape: torch.Size([768, 768]), Grad: True\n",
            "Param Name: bert.encoder.layer.0.attention.self.query.bias, Shape: torch.Size([768]), Grad: True\n",
            "Param Name: bert.encoder.layer.0.attention.self.key.weight, Shape: torch.Size([768, 768]), Grad: True\n",
            "Param Name: bert.encoder.layer.0.attention.self.key.bias, Shape: torch.Size([768]), Grad: True\n",
            "Param Name: bert.encoder.layer.0.attention.self.value.weight, Shape: torch.Size([768, 768]), Grad: True\n",
            "Param Name: bert.encoder.layer.0.attention.self.value.bias, Shape: torch.Size([768]), Grad: True\n",
            "Param Name: bert.encoder.layer.0.attention.output.dense.weight, Shape: torch.Size([768, 768]), Grad: True\n",
            "Param Name: bert.encoder.layer.0.attention.output.dense.bias, Shape: torch.Size([768]), Grad: True\n",
            "Param Name: bert.encoder.layer.0.attention.output.LayerNorm.weight, Shape: torch.Size([768]), Grad: True\n",
            "Param Name: bert.encoder.layer.0.attention.output.LayerNorm.bias, Shape: torch.Size([768]), Grad: True\n",
            "Param Name: bert.encoder.layer.0.intermediate.dense.weight, Shape: torch.Size([3072, 768]), Grad: True\n",
            "Param Name: bert.encoder.layer.0.intermediate.dense.bias, Shape: torch.Size([3072]), Grad: True\n",
            "Param Name: bert.encoder.layer.0.output.dense.weight, Shape: torch.Size([768, 3072]), Grad: True\n",
            "Param Name: bert.encoder.layer.0.output.dense.bias, Shape: torch.Size([768]), Grad: True\n",
            "Param Name: bert.encoder.layer.0.output.LayerNorm.weight, Shape: torch.Size([768]), Grad: True\n",
            "Param Name: bert.encoder.layer.0.output.LayerNorm.bias, Shape: torch.Size([768]), Grad: True\n",
            "Param Name: bert.encoder.layer.1.attention.self.query.weight, Shape: torch.Size([768, 768]), Grad: True\n",
            "Param Name: bert.encoder.layer.1.attention.self.query.bias, Shape: torch.Size([768]), Grad: True\n",
            "Param Name: bert.encoder.layer.1.attention.self.key.weight, Shape: torch.Size([768, 768]), Grad: True\n",
            "Param Name: bert.encoder.layer.1.attention.self.key.bias, Shape: torch.Size([768]), Grad: True\n",
            "Param Name: bert.encoder.layer.1.attention.self.value.weight, Shape: torch.Size([768, 768]), Grad: True\n",
            "Param Name: bert.encoder.layer.1.attention.self.value.bias, Shape: torch.Size([768]), Grad: True\n",
            "Param Name: bert.encoder.layer.1.attention.output.dense.weight, Shape: torch.Size([768, 768]), Grad: True\n",
            "Param Name: bert.encoder.layer.1.attention.output.dense.bias, Shape: torch.Size([768]), Grad: True\n",
            "Param Name: bert.encoder.layer.1.attention.output.LayerNorm.weight, Shape: torch.Size([768]), Grad: True\n",
            "Param Name: bert.encoder.layer.1.attention.output.LayerNorm.bias, Shape: torch.Size([768]), Grad: True\n",
            "Param Name: bert.encoder.layer.1.intermediate.dense.weight, Shape: torch.Size([3072, 768]), Grad: True\n",
            "Param Name: bert.encoder.layer.1.intermediate.dense.bias, Shape: torch.Size([3072]), Grad: True\n",
            "Param Name: bert.encoder.layer.1.output.dense.weight, Shape: torch.Size([768, 3072]), Grad: True\n",
            "Param Name: bert.encoder.layer.1.output.dense.bias, Shape: torch.Size([768]), Grad: True\n",
            "Param Name: bert.encoder.layer.1.output.LayerNorm.weight, Shape: torch.Size([768]), Grad: True\n",
            "Param Name: bert.encoder.layer.1.output.LayerNorm.bias, Shape: torch.Size([768]), Grad: True\n",
            "Param Name: bert.encoder.layer.2.attention.self.query.weight, Shape: torch.Size([768, 768]), Grad: True\n",
            "Param Name: bert.encoder.layer.2.attention.self.query.bias, Shape: torch.Size([768]), Grad: True\n",
            "Param Name: bert.encoder.layer.2.attention.self.key.weight, Shape: torch.Size([768, 768]), Grad: True\n",
            "Param Name: bert.encoder.layer.2.attention.self.key.bias, Shape: torch.Size([768]), Grad: True\n",
            "Param Name: bert.encoder.layer.2.attention.self.value.weight, Shape: torch.Size([768, 768]), Grad: True\n",
            "Param Name: bert.encoder.layer.2.attention.self.value.bias, Shape: torch.Size([768]), Grad: True\n",
            "Param Name: bert.encoder.layer.2.attention.output.dense.weight, Shape: torch.Size([768, 768]), Grad: True\n",
            "Param Name: bert.encoder.layer.2.attention.output.dense.bias, Shape: torch.Size([768]), Grad: True\n",
            "Param Name: bert.encoder.layer.2.attention.output.LayerNorm.weight, Shape: torch.Size([768]), Grad: True\n",
            "Param Name: bert.encoder.layer.2.attention.output.LayerNorm.bias, Shape: torch.Size([768]), Grad: True\n",
            "Param Name: bert.encoder.layer.2.intermediate.dense.weight, Shape: torch.Size([3072, 768]), Grad: True\n",
            "Param Name: bert.encoder.layer.2.intermediate.dense.bias, Shape: torch.Size([3072]), Grad: True\n",
            "Param Name: bert.encoder.layer.2.output.dense.weight, Shape: torch.Size([768, 3072]), Grad: True\n",
            "Param Name: bert.encoder.layer.2.output.dense.bias, Shape: torch.Size([768]), Grad: True\n",
            "Param Name: bert.encoder.layer.2.output.LayerNorm.weight, Shape: torch.Size([768]), Grad: True\n",
            "Param Name: bert.encoder.layer.2.output.LayerNorm.bias, Shape: torch.Size([768]), Grad: True\n",
            "Param Name: bert.encoder.layer.3.attention.self.query.weight, Shape: torch.Size([768, 768]), Grad: True\n",
            "Param Name: bert.encoder.layer.3.attention.self.query.bias, Shape: torch.Size([768]), Grad: True\n",
            "Param Name: bert.encoder.layer.3.attention.self.key.weight, Shape: torch.Size([768, 768]), Grad: True\n",
            "Param Name: bert.encoder.layer.3.attention.self.key.bias, Shape: torch.Size([768]), Grad: True\n",
            "Param Name: bert.encoder.layer.3.attention.self.value.weight, Shape: torch.Size([768, 768]), Grad: True\n",
            "Param Name: bert.encoder.layer.3.attention.self.value.bias, Shape: torch.Size([768]), Grad: True\n",
            "Param Name: bert.encoder.layer.3.attention.output.dense.weight, Shape: torch.Size([768, 768]), Grad: True\n",
            "Param Name: bert.encoder.layer.3.attention.output.dense.bias, Shape: torch.Size([768]), Grad: True\n",
            "Param Name: bert.encoder.layer.3.attention.output.LayerNorm.weight, Shape: torch.Size([768]), Grad: True\n",
            "Param Name: bert.encoder.layer.3.attention.output.LayerNorm.bias, Shape: torch.Size([768]), Grad: True\n",
            "Param Name: bert.encoder.layer.3.intermediate.dense.weight, Shape: torch.Size([3072, 768]), Grad: True\n",
            "Param Name: bert.encoder.layer.3.intermediate.dense.bias, Shape: torch.Size([3072]), Grad: True\n",
            "Param Name: bert.encoder.layer.3.output.dense.weight, Shape: torch.Size([768, 3072]), Grad: True\n",
            "Param Name: bert.encoder.layer.3.output.dense.bias, Shape: torch.Size([768]), Grad: True\n",
            "Param Name: bert.encoder.layer.3.output.LayerNorm.weight, Shape: torch.Size([768]), Grad: True\n",
            "Param Name: bert.encoder.layer.3.output.LayerNorm.bias, Shape: torch.Size([768]), Grad: True\n",
            "Param Name: bert.encoder.layer.4.attention.self.query.weight, Shape: torch.Size([768, 768]), Grad: True\n",
            "Param Name: bert.encoder.layer.4.attention.self.query.bias, Shape: torch.Size([768]), Grad: True\n",
            "Param Name: bert.encoder.layer.4.attention.self.key.weight, Shape: torch.Size([768, 768]), Grad: True\n",
            "Param Name: bert.encoder.layer.4.attention.self.key.bias, Shape: torch.Size([768]), Grad: True\n",
            "Param Name: bert.encoder.layer.4.attention.self.value.weight, Shape: torch.Size([768, 768]), Grad: True\n",
            "Param Name: bert.encoder.layer.4.attention.self.value.bias, Shape: torch.Size([768]), Grad: True\n",
            "Param Name: bert.encoder.layer.4.attention.output.dense.weight, Shape: torch.Size([768, 768]), Grad: True\n",
            "Param Name: bert.encoder.layer.4.attention.output.dense.bias, Shape: torch.Size([768]), Grad: True\n",
            "Param Name: bert.encoder.layer.4.attention.output.LayerNorm.weight, Shape: torch.Size([768]), Grad: True\n",
            "Param Name: bert.encoder.layer.4.attention.output.LayerNorm.bias, Shape: torch.Size([768]), Grad: True\n",
            "Param Name: bert.encoder.layer.4.intermediate.dense.weight, Shape: torch.Size([3072, 768]), Grad: True\n",
            "Param Name: bert.encoder.layer.4.intermediate.dense.bias, Shape: torch.Size([3072]), Grad: True\n",
            "Param Name: bert.encoder.layer.4.output.dense.weight, Shape: torch.Size([768, 3072]), Grad: True\n",
            "Param Name: bert.encoder.layer.4.output.dense.bias, Shape: torch.Size([768]), Grad: True\n",
            "Param Name: bert.encoder.layer.4.output.LayerNorm.weight, Shape: torch.Size([768]), Grad: True\n",
            "Param Name: bert.encoder.layer.4.output.LayerNorm.bias, Shape: torch.Size([768]), Grad: True\n",
            "Param Name: bert.encoder.layer.5.attention.self.query.weight, Shape: torch.Size([768, 768]), Grad: True\n",
            "Param Name: bert.encoder.layer.5.attention.self.query.bias, Shape: torch.Size([768]), Grad: True\n",
            "Param Name: bert.encoder.layer.5.attention.self.key.weight, Shape: torch.Size([768, 768]), Grad: True\n",
            "Param Name: bert.encoder.layer.5.attention.self.key.bias, Shape: torch.Size([768]), Grad: True\n",
            "Param Name: bert.encoder.layer.5.attention.self.value.weight, Shape: torch.Size([768, 768]), Grad: True\n",
            "Param Name: bert.encoder.layer.5.attention.self.value.bias, Shape: torch.Size([768]), Grad: True\n",
            "Param Name: bert.encoder.layer.5.attention.output.dense.weight, Shape: torch.Size([768, 768]), Grad: True\n",
            "Param Name: bert.encoder.layer.5.attention.output.dense.bias, Shape: torch.Size([768]), Grad: True\n",
            "Param Name: bert.encoder.layer.5.attention.output.LayerNorm.weight, Shape: torch.Size([768]), Grad: True\n",
            "Param Name: bert.encoder.layer.5.attention.output.LayerNorm.bias, Shape: torch.Size([768]), Grad: True\n",
            "Param Name: bert.encoder.layer.5.intermediate.dense.weight, Shape: torch.Size([3072, 768]), Grad: True\n",
            "Param Name: bert.encoder.layer.5.intermediate.dense.bias, Shape: torch.Size([3072]), Grad: True\n",
            "Param Name: bert.encoder.layer.5.output.dense.weight, Shape: torch.Size([768, 3072]), Grad: True\n",
            "Param Name: bert.encoder.layer.5.output.dense.bias, Shape: torch.Size([768]), Grad: True\n",
            "Param Name: bert.encoder.layer.5.output.LayerNorm.weight, Shape: torch.Size([768]), Grad: True\n",
            "Param Name: bert.encoder.layer.5.output.LayerNorm.bias, Shape: torch.Size([768]), Grad: True\n",
            "Param Name: bert.encoder.layer.6.attention.self.query.weight, Shape: torch.Size([768, 768]), Grad: True\n",
            "Param Name: bert.encoder.layer.6.attention.self.query.bias, Shape: torch.Size([768]), Grad: True\n",
            "Param Name: bert.encoder.layer.6.attention.self.key.weight, Shape: torch.Size([768, 768]), Grad: True\n",
            "Param Name: bert.encoder.layer.6.attention.self.key.bias, Shape: torch.Size([768]), Grad: True\n",
            "Param Name: bert.encoder.layer.6.attention.self.value.weight, Shape: torch.Size([768, 768]), Grad: True\n",
            "Param Name: bert.encoder.layer.6.attention.self.value.bias, Shape: torch.Size([768]), Grad: True\n",
            "Param Name: bert.encoder.layer.6.attention.output.dense.weight, Shape: torch.Size([768, 768]), Grad: True\n",
            "Param Name: bert.encoder.layer.6.attention.output.dense.bias, Shape: torch.Size([768]), Grad: True\n",
            "Param Name: bert.encoder.layer.6.attention.output.LayerNorm.weight, Shape: torch.Size([768]), Grad: True\n",
            "Param Name: bert.encoder.layer.6.attention.output.LayerNorm.bias, Shape: torch.Size([768]), Grad: True\n",
            "Param Name: bert.encoder.layer.6.intermediate.dense.weight, Shape: torch.Size([3072, 768]), Grad: True\n",
            "Param Name: bert.encoder.layer.6.intermediate.dense.bias, Shape: torch.Size([3072]), Grad: True\n",
            "Param Name: bert.encoder.layer.6.output.dense.weight, Shape: torch.Size([768, 3072]), Grad: True\n",
            "Param Name: bert.encoder.layer.6.output.dense.bias, Shape: torch.Size([768]), Grad: True\n",
            "Param Name: bert.encoder.layer.6.output.LayerNorm.weight, Shape: torch.Size([768]), Grad: True\n",
            "Param Name: bert.encoder.layer.6.output.LayerNorm.bias, Shape: torch.Size([768]), Grad: True\n",
            "Param Name: bert.encoder.layer.7.attention.self.query.weight, Shape: torch.Size([768, 768]), Grad: True\n",
            "Param Name: bert.encoder.layer.7.attention.self.query.bias, Shape: torch.Size([768]), Grad: True\n",
            "Param Name: bert.encoder.layer.7.attention.self.key.weight, Shape: torch.Size([768, 768]), Grad: True\n",
            "Param Name: bert.encoder.layer.7.attention.self.key.bias, Shape: torch.Size([768]), Grad: True\n",
            "Param Name: bert.encoder.layer.7.attention.self.value.weight, Shape: torch.Size([768, 768]), Grad: True\n",
            "Param Name: bert.encoder.layer.7.attention.self.value.bias, Shape: torch.Size([768]), Grad: True\n",
            "Param Name: bert.encoder.layer.7.attention.output.dense.weight, Shape: torch.Size([768, 768]), Grad: True\n",
            "Param Name: bert.encoder.layer.7.attention.output.dense.bias, Shape: torch.Size([768]), Grad: True\n",
            "Param Name: bert.encoder.layer.7.attention.output.LayerNorm.weight, Shape: torch.Size([768]), Grad: True\n",
            "Param Name: bert.encoder.layer.7.attention.output.LayerNorm.bias, Shape: torch.Size([768]), Grad: True\n",
            "Param Name: bert.encoder.layer.7.intermediate.dense.weight, Shape: torch.Size([3072, 768]), Grad: True\n",
            "Param Name: bert.encoder.layer.7.intermediate.dense.bias, Shape: torch.Size([3072]), Grad: True\n",
            "Param Name: bert.encoder.layer.7.output.dense.weight, Shape: torch.Size([768, 3072]), Grad: True\n",
            "Param Name: bert.encoder.layer.7.output.dense.bias, Shape: torch.Size([768]), Grad: True\n",
            "Param Name: bert.encoder.layer.7.output.LayerNorm.weight, Shape: torch.Size([768]), Grad: True\n",
            "Param Name: bert.encoder.layer.7.output.LayerNorm.bias, Shape: torch.Size([768]), Grad: True\n",
            "Param Name: bert.encoder.layer.8.attention.self.query.weight, Shape: torch.Size([768, 768]), Grad: True\n",
            "Param Name: bert.encoder.layer.8.attention.self.query.bias, Shape: torch.Size([768]), Grad: True\n",
            "Param Name: bert.encoder.layer.8.attention.self.key.weight, Shape: torch.Size([768, 768]), Grad: True\n",
            "Param Name: bert.encoder.layer.8.attention.self.key.bias, Shape: torch.Size([768]), Grad: True\n",
            "Param Name: bert.encoder.layer.8.attention.self.value.weight, Shape: torch.Size([768, 768]), Grad: True\n",
            "Param Name: bert.encoder.layer.8.attention.self.value.bias, Shape: torch.Size([768]), Grad: True\n",
            "Param Name: bert.encoder.layer.8.attention.output.dense.weight, Shape: torch.Size([768, 768]), Grad: True\n",
            "Param Name: bert.encoder.layer.8.attention.output.dense.bias, Shape: torch.Size([768]), Grad: True\n",
            "Param Name: bert.encoder.layer.8.attention.output.LayerNorm.weight, Shape: torch.Size([768]), Grad: True\n",
            "Param Name: bert.encoder.layer.8.attention.output.LayerNorm.bias, Shape: torch.Size([768]), Grad: True\n",
            "Param Name: bert.encoder.layer.8.intermediate.dense.weight, Shape: torch.Size([3072, 768]), Grad: True\n",
            "Param Name: bert.encoder.layer.8.intermediate.dense.bias, Shape: torch.Size([3072]), Grad: True\n",
            "Param Name: bert.encoder.layer.8.output.dense.weight, Shape: torch.Size([768, 3072]), Grad: True\n",
            "Param Name: bert.encoder.layer.8.output.dense.bias, Shape: torch.Size([768]), Grad: True\n",
            "Param Name: bert.encoder.layer.8.output.LayerNorm.weight, Shape: torch.Size([768]), Grad: True\n",
            "Param Name: bert.encoder.layer.8.output.LayerNorm.bias, Shape: torch.Size([768]), Grad: True\n",
            "Param Name: bert.encoder.layer.9.attention.self.query.weight, Shape: torch.Size([768, 768]), Grad: True\n",
            "Param Name: bert.encoder.layer.9.attention.self.query.bias, Shape: torch.Size([768]), Grad: True\n",
            "Param Name: bert.encoder.layer.9.attention.self.key.weight, Shape: torch.Size([768, 768]), Grad: True\n",
            "Param Name: bert.encoder.layer.9.attention.self.key.bias, Shape: torch.Size([768]), Grad: True\n",
            "Param Name: bert.encoder.layer.9.attention.self.value.weight, Shape: torch.Size([768, 768]), Grad: True\n",
            "Param Name: bert.encoder.layer.9.attention.self.value.bias, Shape: torch.Size([768]), Grad: True\n",
            "Param Name: bert.encoder.layer.9.attention.output.dense.weight, Shape: torch.Size([768, 768]), Grad: True\n",
            "Param Name: bert.encoder.layer.9.attention.output.dense.bias, Shape: torch.Size([768]), Grad: True\n",
            "Param Name: bert.encoder.layer.9.attention.output.LayerNorm.weight, Shape: torch.Size([768]), Grad: True\n",
            "Param Name: bert.encoder.layer.9.attention.output.LayerNorm.bias, Shape: torch.Size([768]), Grad: True\n",
            "Param Name: bert.encoder.layer.9.intermediate.dense.weight, Shape: torch.Size([3072, 768]), Grad: True\n",
            "Param Name: bert.encoder.layer.9.intermediate.dense.bias, Shape: torch.Size([3072]), Grad: True\n",
            "Param Name: bert.encoder.layer.9.output.dense.weight, Shape: torch.Size([768, 3072]), Grad: True\n",
            "Param Name: bert.encoder.layer.9.output.dense.bias, Shape: torch.Size([768]), Grad: True\n",
            "Param Name: bert.encoder.layer.9.output.LayerNorm.weight, Shape: torch.Size([768]), Grad: True\n",
            "Param Name: bert.encoder.layer.9.output.LayerNorm.bias, Shape: torch.Size([768]), Grad: True\n",
            "Param Name: bert.encoder.layer.10.attention.self.query.weight, Shape: torch.Size([768, 768]), Grad: True\n",
            "Param Name: bert.encoder.layer.10.attention.self.query.bias, Shape: torch.Size([768]), Grad: True\n",
            "Param Name: bert.encoder.layer.10.attention.self.key.weight, Shape: torch.Size([768, 768]), Grad: True\n",
            "Param Name: bert.encoder.layer.10.attention.self.key.bias, Shape: torch.Size([768]), Grad: True\n",
            "Param Name: bert.encoder.layer.10.attention.self.value.weight, Shape: torch.Size([768, 768]), Grad: True\n",
            "Param Name: bert.encoder.layer.10.attention.self.value.bias, Shape: torch.Size([768]), Grad: True\n",
            "Param Name: bert.encoder.layer.10.attention.output.dense.weight, Shape: torch.Size([768, 768]), Grad: True\n",
            "Param Name: bert.encoder.layer.10.attention.output.dense.bias, Shape: torch.Size([768]), Grad: True\n",
            "Param Name: bert.encoder.layer.10.attention.output.LayerNorm.weight, Shape: torch.Size([768]), Grad: True\n",
            "Param Name: bert.encoder.layer.10.attention.output.LayerNorm.bias, Shape: torch.Size([768]), Grad: True\n",
            "Param Name: bert.encoder.layer.10.intermediate.dense.weight, Shape: torch.Size([3072, 768]), Grad: True\n",
            "Param Name: bert.encoder.layer.10.intermediate.dense.bias, Shape: torch.Size([3072]), Grad: True\n",
            "Param Name: bert.encoder.layer.10.output.dense.weight, Shape: torch.Size([768, 3072]), Grad: True\n",
            "Param Name: bert.encoder.layer.10.output.dense.bias, Shape: torch.Size([768]), Grad: True\n",
            "Param Name: bert.encoder.layer.10.output.LayerNorm.weight, Shape: torch.Size([768]), Grad: True\n",
            "Param Name: bert.encoder.layer.10.output.LayerNorm.bias, Shape: torch.Size([768]), Grad: True\n",
            "Param Name: bert.encoder.layer.11.attention.self.query.weight, Shape: torch.Size([768, 768]), Grad: True\n",
            "Param Name: bert.encoder.layer.11.attention.self.query.bias, Shape: torch.Size([768]), Grad: True\n",
            "Param Name: bert.encoder.layer.11.attention.self.key.weight, Shape: torch.Size([768, 768]), Grad: True\n",
            "Param Name: bert.encoder.layer.11.attention.self.key.bias, Shape: torch.Size([768]), Grad: True\n",
            "Param Name: bert.encoder.layer.11.attention.self.value.weight, Shape: torch.Size([768, 768]), Grad: True\n",
            "Param Name: bert.encoder.layer.11.attention.self.value.bias, Shape: torch.Size([768]), Grad: True\n",
            "Param Name: bert.encoder.layer.11.attention.output.dense.weight, Shape: torch.Size([768, 768]), Grad: True\n",
            "Param Name: bert.encoder.layer.11.attention.output.dense.bias, Shape: torch.Size([768]), Grad: True\n",
            "Param Name: bert.encoder.layer.11.attention.output.LayerNorm.weight, Shape: torch.Size([768]), Grad: True\n",
            "Param Name: bert.encoder.layer.11.attention.output.LayerNorm.bias, Shape: torch.Size([768]), Grad: True\n",
            "Param Name: bert.encoder.layer.11.intermediate.dense.weight, Shape: torch.Size([3072, 768]), Grad: True\n",
            "Param Name: bert.encoder.layer.11.intermediate.dense.bias, Shape: torch.Size([3072]), Grad: True\n",
            "Param Name: bert.encoder.layer.11.output.dense.weight, Shape: torch.Size([768, 3072]), Grad: True\n",
            "Param Name: bert.encoder.layer.11.output.dense.bias, Shape: torch.Size([768]), Grad: True\n",
            "Param Name: bert.encoder.layer.11.output.LayerNorm.weight, Shape: torch.Size([768]), Grad: True\n",
            "Param Name: bert.encoder.layer.11.output.LayerNorm.bias, Shape: torch.Size([768]), Grad: True\n",
            "Param Name: bert.pooler.dense.weight, Shape: torch.Size([768, 768]), Grad: True\n",
            "Param Name: bert.pooler.dense.bias, Shape: torch.Size([768]), Grad: True\n",
            "Param Name: classifier.0.weight, Shape: torch.Size([32, 768]), Grad: True\n",
            "Param Name: classifier.0.bias, Shape: torch.Size([32]), Grad: True\n",
            "Param Name: classifier.3.weight, Shape: torch.Size([2, 32]), Grad: True\n",
            "Param Name: classifier.3.bias, Shape: torch.Size([2]), Grad: True\n"
          ]
        }
      ],
      "source": [
        "for name, param in model_freeze.named_parameters():\n",
        "    print(f\"Param Name: {name}, Shape: {param.shape}, Grad: {param.requires_grad}\")"
      ]
    },
    {
      "cell_type": "code",
      "execution_count": 17,
      "metadata": {
        "ExecuteTime": {
          "end_time": "2022-01-31T13:48:34.491429Z",
          "start_time": "2022-01-31T13:48:34.486950Z"
        },
        "colab": {
          "base_uri": "https://localhost:8080/"
        },
        "id": "QNQU8mnAUFxO",
        "outputId": "d1af9a0c-fd03-49aa-f18f-7ea230dba255"
      },
      "outputs": [
        {
          "output_type": "stream",
          "name": "stdout",
          "text": [
            "None\n"
          ]
        }
      ],
      "source": [
        "for name, param in model_freeze.named_parameters():\n",
        "    if name == \"classifier.0.weight\":\n",
        "        print(param.grad)"
      ]
    },
    {
      "cell_type": "markdown",
      "metadata": {
        "id": "4iIrHg1xUFxP"
      },
      "source": [
        "### 위 모델 (`model_freeze`)의 모든 파라미터의 gradient를 freeze 해보자"
      ]
    },
    {
      "cell_type": "code",
      "execution_count": 18,
      "metadata": {
        "ExecuteTime": {
          "end_time": "2022-01-31T13:49:26.820569Z",
          "start_time": "2022-01-31T13:49:26.816511Z"
        },
        "id": "sHkaFgC8UFxP"
      },
      "outputs": [],
      "source": [
        "for param in model_freeze.parameters():\n",
        "    param.requires_grad=False"
      ]
    },
    {
      "cell_type": "code",
      "execution_count": 19,
      "metadata": {
        "ExecuteTime": {
          "end_time": "2022-01-31T13:49:31.951689Z",
          "start_time": "2022-01-31T13:49:31.934001Z"
        },
        "id": "PrDYEXnFUFxP",
        "outputId": "3e25419a-b1e1-49af-b1d4-b703b6547f8c",
        "colab": {
          "base_uri": "https://localhost:8080/"
        }
      },
      "outputs": [
        {
          "output_type": "stream",
          "name": "stdout",
          "text": [
            "Param Name: bert.embeddings.word_embeddings.weight, Shape: torch.Size([32000, 768]), Grad: False\n",
            "Param Name: bert.embeddings.position_embeddings.weight, Shape: torch.Size([512, 768]), Grad: False\n",
            "Param Name: bert.embeddings.token_type_embeddings.weight, Shape: torch.Size([2, 768]), Grad: False\n",
            "Param Name: bert.embeddings.LayerNorm.weight, Shape: torch.Size([768]), Grad: False\n",
            "Param Name: bert.embeddings.LayerNorm.bias, Shape: torch.Size([768]), Grad: False\n",
            "Param Name: bert.encoder.layer.0.attention.self.query.weight, Shape: torch.Size([768, 768]), Grad: False\n",
            "Param Name: bert.encoder.layer.0.attention.self.query.bias, Shape: torch.Size([768]), Grad: False\n",
            "Param Name: bert.encoder.layer.0.attention.self.key.weight, Shape: torch.Size([768, 768]), Grad: False\n",
            "Param Name: bert.encoder.layer.0.attention.self.key.bias, Shape: torch.Size([768]), Grad: False\n",
            "Param Name: bert.encoder.layer.0.attention.self.value.weight, Shape: torch.Size([768, 768]), Grad: False\n",
            "Param Name: bert.encoder.layer.0.attention.self.value.bias, Shape: torch.Size([768]), Grad: False\n",
            "Param Name: bert.encoder.layer.0.attention.output.dense.weight, Shape: torch.Size([768, 768]), Grad: False\n",
            "Param Name: bert.encoder.layer.0.attention.output.dense.bias, Shape: torch.Size([768]), Grad: False\n",
            "Param Name: bert.encoder.layer.0.attention.output.LayerNorm.weight, Shape: torch.Size([768]), Grad: False\n",
            "Param Name: bert.encoder.layer.0.attention.output.LayerNorm.bias, Shape: torch.Size([768]), Grad: False\n",
            "Param Name: bert.encoder.layer.0.intermediate.dense.weight, Shape: torch.Size([3072, 768]), Grad: False\n",
            "Param Name: bert.encoder.layer.0.intermediate.dense.bias, Shape: torch.Size([3072]), Grad: False\n",
            "Param Name: bert.encoder.layer.0.output.dense.weight, Shape: torch.Size([768, 3072]), Grad: False\n",
            "Param Name: bert.encoder.layer.0.output.dense.bias, Shape: torch.Size([768]), Grad: False\n",
            "Param Name: bert.encoder.layer.0.output.LayerNorm.weight, Shape: torch.Size([768]), Grad: False\n",
            "Param Name: bert.encoder.layer.0.output.LayerNorm.bias, Shape: torch.Size([768]), Grad: False\n",
            "Param Name: bert.encoder.layer.1.attention.self.query.weight, Shape: torch.Size([768, 768]), Grad: False\n",
            "Param Name: bert.encoder.layer.1.attention.self.query.bias, Shape: torch.Size([768]), Grad: False\n",
            "Param Name: bert.encoder.layer.1.attention.self.key.weight, Shape: torch.Size([768, 768]), Grad: False\n",
            "Param Name: bert.encoder.layer.1.attention.self.key.bias, Shape: torch.Size([768]), Grad: False\n",
            "Param Name: bert.encoder.layer.1.attention.self.value.weight, Shape: torch.Size([768, 768]), Grad: False\n",
            "Param Name: bert.encoder.layer.1.attention.self.value.bias, Shape: torch.Size([768]), Grad: False\n",
            "Param Name: bert.encoder.layer.1.attention.output.dense.weight, Shape: torch.Size([768, 768]), Grad: False\n",
            "Param Name: bert.encoder.layer.1.attention.output.dense.bias, Shape: torch.Size([768]), Grad: False\n",
            "Param Name: bert.encoder.layer.1.attention.output.LayerNorm.weight, Shape: torch.Size([768]), Grad: False\n",
            "Param Name: bert.encoder.layer.1.attention.output.LayerNorm.bias, Shape: torch.Size([768]), Grad: False\n",
            "Param Name: bert.encoder.layer.1.intermediate.dense.weight, Shape: torch.Size([3072, 768]), Grad: False\n",
            "Param Name: bert.encoder.layer.1.intermediate.dense.bias, Shape: torch.Size([3072]), Grad: False\n",
            "Param Name: bert.encoder.layer.1.output.dense.weight, Shape: torch.Size([768, 3072]), Grad: False\n",
            "Param Name: bert.encoder.layer.1.output.dense.bias, Shape: torch.Size([768]), Grad: False\n",
            "Param Name: bert.encoder.layer.1.output.LayerNorm.weight, Shape: torch.Size([768]), Grad: False\n",
            "Param Name: bert.encoder.layer.1.output.LayerNorm.bias, Shape: torch.Size([768]), Grad: False\n",
            "Param Name: bert.encoder.layer.2.attention.self.query.weight, Shape: torch.Size([768, 768]), Grad: False\n",
            "Param Name: bert.encoder.layer.2.attention.self.query.bias, Shape: torch.Size([768]), Grad: False\n",
            "Param Name: bert.encoder.layer.2.attention.self.key.weight, Shape: torch.Size([768, 768]), Grad: False\n",
            "Param Name: bert.encoder.layer.2.attention.self.key.bias, Shape: torch.Size([768]), Grad: False\n",
            "Param Name: bert.encoder.layer.2.attention.self.value.weight, Shape: torch.Size([768, 768]), Grad: False\n",
            "Param Name: bert.encoder.layer.2.attention.self.value.bias, Shape: torch.Size([768]), Grad: False\n",
            "Param Name: bert.encoder.layer.2.attention.output.dense.weight, Shape: torch.Size([768, 768]), Grad: False\n",
            "Param Name: bert.encoder.layer.2.attention.output.dense.bias, Shape: torch.Size([768]), Grad: False\n",
            "Param Name: bert.encoder.layer.2.attention.output.LayerNorm.weight, Shape: torch.Size([768]), Grad: False\n",
            "Param Name: bert.encoder.layer.2.attention.output.LayerNorm.bias, Shape: torch.Size([768]), Grad: False\n",
            "Param Name: bert.encoder.layer.2.intermediate.dense.weight, Shape: torch.Size([3072, 768]), Grad: False\n",
            "Param Name: bert.encoder.layer.2.intermediate.dense.bias, Shape: torch.Size([3072]), Grad: False\n",
            "Param Name: bert.encoder.layer.2.output.dense.weight, Shape: torch.Size([768, 3072]), Grad: False\n",
            "Param Name: bert.encoder.layer.2.output.dense.bias, Shape: torch.Size([768]), Grad: False\n",
            "Param Name: bert.encoder.layer.2.output.LayerNorm.weight, Shape: torch.Size([768]), Grad: False\n",
            "Param Name: bert.encoder.layer.2.output.LayerNorm.bias, Shape: torch.Size([768]), Grad: False\n",
            "Param Name: bert.encoder.layer.3.attention.self.query.weight, Shape: torch.Size([768, 768]), Grad: False\n",
            "Param Name: bert.encoder.layer.3.attention.self.query.bias, Shape: torch.Size([768]), Grad: False\n",
            "Param Name: bert.encoder.layer.3.attention.self.key.weight, Shape: torch.Size([768, 768]), Grad: False\n",
            "Param Name: bert.encoder.layer.3.attention.self.key.bias, Shape: torch.Size([768]), Grad: False\n",
            "Param Name: bert.encoder.layer.3.attention.self.value.weight, Shape: torch.Size([768, 768]), Grad: False\n",
            "Param Name: bert.encoder.layer.3.attention.self.value.bias, Shape: torch.Size([768]), Grad: False\n",
            "Param Name: bert.encoder.layer.3.attention.output.dense.weight, Shape: torch.Size([768, 768]), Grad: False\n",
            "Param Name: bert.encoder.layer.3.attention.output.dense.bias, Shape: torch.Size([768]), Grad: False\n",
            "Param Name: bert.encoder.layer.3.attention.output.LayerNorm.weight, Shape: torch.Size([768]), Grad: False\n",
            "Param Name: bert.encoder.layer.3.attention.output.LayerNorm.bias, Shape: torch.Size([768]), Grad: False\n",
            "Param Name: bert.encoder.layer.3.intermediate.dense.weight, Shape: torch.Size([3072, 768]), Grad: False\n",
            "Param Name: bert.encoder.layer.3.intermediate.dense.bias, Shape: torch.Size([3072]), Grad: False\n",
            "Param Name: bert.encoder.layer.3.output.dense.weight, Shape: torch.Size([768, 3072]), Grad: False\n",
            "Param Name: bert.encoder.layer.3.output.dense.bias, Shape: torch.Size([768]), Grad: False\n",
            "Param Name: bert.encoder.layer.3.output.LayerNorm.weight, Shape: torch.Size([768]), Grad: False\n",
            "Param Name: bert.encoder.layer.3.output.LayerNorm.bias, Shape: torch.Size([768]), Grad: False\n",
            "Param Name: bert.encoder.layer.4.attention.self.query.weight, Shape: torch.Size([768, 768]), Grad: False\n",
            "Param Name: bert.encoder.layer.4.attention.self.query.bias, Shape: torch.Size([768]), Grad: False\n",
            "Param Name: bert.encoder.layer.4.attention.self.key.weight, Shape: torch.Size([768, 768]), Grad: False\n",
            "Param Name: bert.encoder.layer.4.attention.self.key.bias, Shape: torch.Size([768]), Grad: False\n",
            "Param Name: bert.encoder.layer.4.attention.self.value.weight, Shape: torch.Size([768, 768]), Grad: False\n",
            "Param Name: bert.encoder.layer.4.attention.self.value.bias, Shape: torch.Size([768]), Grad: False\n",
            "Param Name: bert.encoder.layer.4.attention.output.dense.weight, Shape: torch.Size([768, 768]), Grad: False\n",
            "Param Name: bert.encoder.layer.4.attention.output.dense.bias, Shape: torch.Size([768]), Grad: False\n",
            "Param Name: bert.encoder.layer.4.attention.output.LayerNorm.weight, Shape: torch.Size([768]), Grad: False\n",
            "Param Name: bert.encoder.layer.4.attention.output.LayerNorm.bias, Shape: torch.Size([768]), Grad: False\n",
            "Param Name: bert.encoder.layer.4.intermediate.dense.weight, Shape: torch.Size([3072, 768]), Grad: False\n",
            "Param Name: bert.encoder.layer.4.intermediate.dense.bias, Shape: torch.Size([3072]), Grad: False\n",
            "Param Name: bert.encoder.layer.4.output.dense.weight, Shape: torch.Size([768, 3072]), Grad: False\n",
            "Param Name: bert.encoder.layer.4.output.dense.bias, Shape: torch.Size([768]), Grad: False\n",
            "Param Name: bert.encoder.layer.4.output.LayerNorm.weight, Shape: torch.Size([768]), Grad: False\n",
            "Param Name: bert.encoder.layer.4.output.LayerNorm.bias, Shape: torch.Size([768]), Grad: False\n",
            "Param Name: bert.encoder.layer.5.attention.self.query.weight, Shape: torch.Size([768, 768]), Grad: False\n",
            "Param Name: bert.encoder.layer.5.attention.self.query.bias, Shape: torch.Size([768]), Grad: False\n",
            "Param Name: bert.encoder.layer.5.attention.self.key.weight, Shape: torch.Size([768, 768]), Grad: False\n",
            "Param Name: bert.encoder.layer.5.attention.self.key.bias, Shape: torch.Size([768]), Grad: False\n",
            "Param Name: bert.encoder.layer.5.attention.self.value.weight, Shape: torch.Size([768, 768]), Grad: False\n",
            "Param Name: bert.encoder.layer.5.attention.self.value.bias, Shape: torch.Size([768]), Grad: False\n",
            "Param Name: bert.encoder.layer.5.attention.output.dense.weight, Shape: torch.Size([768, 768]), Grad: False\n",
            "Param Name: bert.encoder.layer.5.attention.output.dense.bias, Shape: torch.Size([768]), Grad: False\n",
            "Param Name: bert.encoder.layer.5.attention.output.LayerNorm.weight, Shape: torch.Size([768]), Grad: False\n",
            "Param Name: bert.encoder.layer.5.attention.output.LayerNorm.bias, Shape: torch.Size([768]), Grad: False\n",
            "Param Name: bert.encoder.layer.5.intermediate.dense.weight, Shape: torch.Size([3072, 768]), Grad: False\n",
            "Param Name: bert.encoder.layer.5.intermediate.dense.bias, Shape: torch.Size([3072]), Grad: False\n",
            "Param Name: bert.encoder.layer.5.output.dense.weight, Shape: torch.Size([768, 3072]), Grad: False\n",
            "Param Name: bert.encoder.layer.5.output.dense.bias, Shape: torch.Size([768]), Grad: False\n",
            "Param Name: bert.encoder.layer.5.output.LayerNorm.weight, Shape: torch.Size([768]), Grad: False\n",
            "Param Name: bert.encoder.layer.5.output.LayerNorm.bias, Shape: torch.Size([768]), Grad: False\n",
            "Param Name: bert.encoder.layer.6.attention.self.query.weight, Shape: torch.Size([768, 768]), Grad: False\n",
            "Param Name: bert.encoder.layer.6.attention.self.query.bias, Shape: torch.Size([768]), Grad: False\n",
            "Param Name: bert.encoder.layer.6.attention.self.key.weight, Shape: torch.Size([768, 768]), Grad: False\n",
            "Param Name: bert.encoder.layer.6.attention.self.key.bias, Shape: torch.Size([768]), Grad: False\n",
            "Param Name: bert.encoder.layer.6.attention.self.value.weight, Shape: torch.Size([768, 768]), Grad: False\n",
            "Param Name: bert.encoder.layer.6.attention.self.value.bias, Shape: torch.Size([768]), Grad: False\n",
            "Param Name: bert.encoder.layer.6.attention.output.dense.weight, Shape: torch.Size([768, 768]), Grad: False\n",
            "Param Name: bert.encoder.layer.6.attention.output.dense.bias, Shape: torch.Size([768]), Grad: False\n",
            "Param Name: bert.encoder.layer.6.attention.output.LayerNorm.weight, Shape: torch.Size([768]), Grad: False\n",
            "Param Name: bert.encoder.layer.6.attention.output.LayerNorm.bias, Shape: torch.Size([768]), Grad: False\n",
            "Param Name: bert.encoder.layer.6.intermediate.dense.weight, Shape: torch.Size([3072, 768]), Grad: False\n",
            "Param Name: bert.encoder.layer.6.intermediate.dense.bias, Shape: torch.Size([3072]), Grad: False\n",
            "Param Name: bert.encoder.layer.6.output.dense.weight, Shape: torch.Size([768, 3072]), Grad: False\n",
            "Param Name: bert.encoder.layer.6.output.dense.bias, Shape: torch.Size([768]), Grad: False\n",
            "Param Name: bert.encoder.layer.6.output.LayerNorm.weight, Shape: torch.Size([768]), Grad: False\n",
            "Param Name: bert.encoder.layer.6.output.LayerNorm.bias, Shape: torch.Size([768]), Grad: False\n",
            "Param Name: bert.encoder.layer.7.attention.self.query.weight, Shape: torch.Size([768, 768]), Grad: False\n",
            "Param Name: bert.encoder.layer.7.attention.self.query.bias, Shape: torch.Size([768]), Grad: False\n",
            "Param Name: bert.encoder.layer.7.attention.self.key.weight, Shape: torch.Size([768, 768]), Grad: False\n",
            "Param Name: bert.encoder.layer.7.attention.self.key.bias, Shape: torch.Size([768]), Grad: False\n",
            "Param Name: bert.encoder.layer.7.attention.self.value.weight, Shape: torch.Size([768, 768]), Grad: False\n",
            "Param Name: bert.encoder.layer.7.attention.self.value.bias, Shape: torch.Size([768]), Grad: False\n",
            "Param Name: bert.encoder.layer.7.attention.output.dense.weight, Shape: torch.Size([768, 768]), Grad: False\n",
            "Param Name: bert.encoder.layer.7.attention.output.dense.bias, Shape: torch.Size([768]), Grad: False\n",
            "Param Name: bert.encoder.layer.7.attention.output.LayerNorm.weight, Shape: torch.Size([768]), Grad: False\n",
            "Param Name: bert.encoder.layer.7.attention.output.LayerNorm.bias, Shape: torch.Size([768]), Grad: False\n",
            "Param Name: bert.encoder.layer.7.intermediate.dense.weight, Shape: torch.Size([3072, 768]), Grad: False\n",
            "Param Name: bert.encoder.layer.7.intermediate.dense.bias, Shape: torch.Size([3072]), Grad: False\n",
            "Param Name: bert.encoder.layer.7.output.dense.weight, Shape: torch.Size([768, 3072]), Grad: False\n",
            "Param Name: bert.encoder.layer.7.output.dense.bias, Shape: torch.Size([768]), Grad: False\n",
            "Param Name: bert.encoder.layer.7.output.LayerNorm.weight, Shape: torch.Size([768]), Grad: False\n",
            "Param Name: bert.encoder.layer.7.output.LayerNorm.bias, Shape: torch.Size([768]), Grad: False\n",
            "Param Name: bert.encoder.layer.8.attention.self.query.weight, Shape: torch.Size([768, 768]), Grad: False\n",
            "Param Name: bert.encoder.layer.8.attention.self.query.bias, Shape: torch.Size([768]), Grad: False\n",
            "Param Name: bert.encoder.layer.8.attention.self.key.weight, Shape: torch.Size([768, 768]), Grad: False\n",
            "Param Name: bert.encoder.layer.8.attention.self.key.bias, Shape: torch.Size([768]), Grad: False\n",
            "Param Name: bert.encoder.layer.8.attention.self.value.weight, Shape: torch.Size([768, 768]), Grad: False\n",
            "Param Name: bert.encoder.layer.8.attention.self.value.bias, Shape: torch.Size([768]), Grad: False\n",
            "Param Name: bert.encoder.layer.8.attention.output.dense.weight, Shape: torch.Size([768, 768]), Grad: False\n",
            "Param Name: bert.encoder.layer.8.attention.output.dense.bias, Shape: torch.Size([768]), Grad: False\n",
            "Param Name: bert.encoder.layer.8.attention.output.LayerNorm.weight, Shape: torch.Size([768]), Grad: False\n",
            "Param Name: bert.encoder.layer.8.attention.output.LayerNorm.bias, Shape: torch.Size([768]), Grad: False\n",
            "Param Name: bert.encoder.layer.8.intermediate.dense.weight, Shape: torch.Size([3072, 768]), Grad: False\n",
            "Param Name: bert.encoder.layer.8.intermediate.dense.bias, Shape: torch.Size([3072]), Grad: False\n",
            "Param Name: bert.encoder.layer.8.output.dense.weight, Shape: torch.Size([768, 3072]), Grad: False\n",
            "Param Name: bert.encoder.layer.8.output.dense.bias, Shape: torch.Size([768]), Grad: False\n",
            "Param Name: bert.encoder.layer.8.output.LayerNorm.weight, Shape: torch.Size([768]), Grad: False\n",
            "Param Name: bert.encoder.layer.8.output.LayerNorm.bias, Shape: torch.Size([768]), Grad: False\n",
            "Param Name: bert.encoder.layer.9.attention.self.query.weight, Shape: torch.Size([768, 768]), Grad: False\n",
            "Param Name: bert.encoder.layer.9.attention.self.query.bias, Shape: torch.Size([768]), Grad: False\n",
            "Param Name: bert.encoder.layer.9.attention.self.key.weight, Shape: torch.Size([768, 768]), Grad: False\n",
            "Param Name: bert.encoder.layer.9.attention.self.key.bias, Shape: torch.Size([768]), Grad: False\n",
            "Param Name: bert.encoder.layer.9.attention.self.value.weight, Shape: torch.Size([768, 768]), Grad: False\n",
            "Param Name: bert.encoder.layer.9.attention.self.value.bias, Shape: torch.Size([768]), Grad: False\n",
            "Param Name: bert.encoder.layer.9.attention.output.dense.weight, Shape: torch.Size([768, 768]), Grad: False\n",
            "Param Name: bert.encoder.layer.9.attention.output.dense.bias, Shape: torch.Size([768]), Grad: False\n",
            "Param Name: bert.encoder.layer.9.attention.output.LayerNorm.weight, Shape: torch.Size([768]), Grad: False\n",
            "Param Name: bert.encoder.layer.9.attention.output.LayerNorm.bias, Shape: torch.Size([768]), Grad: False\n",
            "Param Name: bert.encoder.layer.9.intermediate.dense.weight, Shape: torch.Size([3072, 768]), Grad: False\n",
            "Param Name: bert.encoder.layer.9.intermediate.dense.bias, Shape: torch.Size([3072]), Grad: False\n",
            "Param Name: bert.encoder.layer.9.output.dense.weight, Shape: torch.Size([768, 3072]), Grad: False\n",
            "Param Name: bert.encoder.layer.9.output.dense.bias, Shape: torch.Size([768]), Grad: False\n",
            "Param Name: bert.encoder.layer.9.output.LayerNorm.weight, Shape: torch.Size([768]), Grad: False\n",
            "Param Name: bert.encoder.layer.9.output.LayerNorm.bias, Shape: torch.Size([768]), Grad: False\n",
            "Param Name: bert.encoder.layer.10.attention.self.query.weight, Shape: torch.Size([768, 768]), Grad: False\n",
            "Param Name: bert.encoder.layer.10.attention.self.query.bias, Shape: torch.Size([768]), Grad: False\n",
            "Param Name: bert.encoder.layer.10.attention.self.key.weight, Shape: torch.Size([768, 768]), Grad: False\n",
            "Param Name: bert.encoder.layer.10.attention.self.key.bias, Shape: torch.Size([768]), Grad: False\n",
            "Param Name: bert.encoder.layer.10.attention.self.value.weight, Shape: torch.Size([768, 768]), Grad: False\n",
            "Param Name: bert.encoder.layer.10.attention.self.value.bias, Shape: torch.Size([768]), Grad: False\n",
            "Param Name: bert.encoder.layer.10.attention.output.dense.weight, Shape: torch.Size([768, 768]), Grad: False\n",
            "Param Name: bert.encoder.layer.10.attention.output.dense.bias, Shape: torch.Size([768]), Grad: False\n",
            "Param Name: bert.encoder.layer.10.attention.output.LayerNorm.weight, Shape: torch.Size([768]), Grad: False\n",
            "Param Name: bert.encoder.layer.10.attention.output.LayerNorm.bias, Shape: torch.Size([768]), Grad: False\n",
            "Param Name: bert.encoder.layer.10.intermediate.dense.weight, Shape: torch.Size([3072, 768]), Grad: False\n",
            "Param Name: bert.encoder.layer.10.intermediate.dense.bias, Shape: torch.Size([3072]), Grad: False\n",
            "Param Name: bert.encoder.layer.10.output.dense.weight, Shape: torch.Size([768, 3072]), Grad: False\n",
            "Param Name: bert.encoder.layer.10.output.dense.bias, Shape: torch.Size([768]), Grad: False\n",
            "Param Name: bert.encoder.layer.10.output.LayerNorm.weight, Shape: torch.Size([768]), Grad: False\n",
            "Param Name: bert.encoder.layer.10.output.LayerNorm.bias, Shape: torch.Size([768]), Grad: False\n",
            "Param Name: bert.encoder.layer.11.attention.self.query.weight, Shape: torch.Size([768, 768]), Grad: False\n",
            "Param Name: bert.encoder.layer.11.attention.self.query.bias, Shape: torch.Size([768]), Grad: False\n",
            "Param Name: bert.encoder.layer.11.attention.self.key.weight, Shape: torch.Size([768, 768]), Grad: False\n",
            "Param Name: bert.encoder.layer.11.attention.self.key.bias, Shape: torch.Size([768]), Grad: False\n",
            "Param Name: bert.encoder.layer.11.attention.self.value.weight, Shape: torch.Size([768, 768]), Grad: False\n",
            "Param Name: bert.encoder.layer.11.attention.self.value.bias, Shape: torch.Size([768]), Grad: False\n",
            "Param Name: bert.encoder.layer.11.attention.output.dense.weight, Shape: torch.Size([768, 768]), Grad: False\n",
            "Param Name: bert.encoder.layer.11.attention.output.dense.bias, Shape: torch.Size([768]), Grad: False\n",
            "Param Name: bert.encoder.layer.11.attention.output.LayerNorm.weight, Shape: torch.Size([768]), Grad: False\n",
            "Param Name: bert.encoder.layer.11.attention.output.LayerNorm.bias, Shape: torch.Size([768]), Grad: False\n",
            "Param Name: bert.encoder.layer.11.intermediate.dense.weight, Shape: torch.Size([3072, 768]), Grad: False\n",
            "Param Name: bert.encoder.layer.11.intermediate.dense.bias, Shape: torch.Size([3072]), Grad: False\n",
            "Param Name: bert.encoder.layer.11.output.dense.weight, Shape: torch.Size([768, 3072]), Grad: False\n",
            "Param Name: bert.encoder.layer.11.output.dense.bias, Shape: torch.Size([768]), Grad: False\n",
            "Param Name: bert.encoder.layer.11.output.LayerNorm.weight, Shape: torch.Size([768]), Grad: False\n",
            "Param Name: bert.encoder.layer.11.output.LayerNorm.bias, Shape: torch.Size([768]), Grad: False\n",
            "Param Name: bert.pooler.dense.weight, Shape: torch.Size([768, 768]), Grad: False\n",
            "Param Name: bert.pooler.dense.bias, Shape: torch.Size([768]), Grad: False\n",
            "Param Name: classifier.0.weight, Shape: torch.Size([32, 768]), Grad: False\n",
            "Param Name: classifier.0.bias, Shape: torch.Size([32]), Grad: False\n",
            "Param Name: classifier.3.weight, Shape: torch.Size([2, 32]), Grad: False\n",
            "Param Name: classifier.3.bias, Shape: torch.Size([2]), Grad: False\n"
          ]
        }
      ],
      "source": [
        "# 확인\n",
        "for name, param in model_freeze.named_parameters():\n",
        "    print(f\"Param Name: {name}, Shape: {param.shape}, Grad: {param.requires_grad}\")"
      ]
    },
    {
      "cell_type": "markdown",
      "metadata": {
        "id": "bhBZGJ4IaMev"
      },
      "source": [
        "## Challenge"
      ]
    },
    {
      "cell_type": "markdown",
      "metadata": {
        "id": "afiwEOQgaMev"
      },
      "source": [
        "### `scheduler` 를 생성 \n",
        "- 스케쥴러를 알기 전에 먼저 `epoch`의 개념을 알아야 한다. Epoch는 dataset를 **몇 번 반복**해 학습할 것인지를 의미한다. 만약 dataset의 개수가 2,000개이고 epoch을 2번 학습하게 되면 총 4,000개의 데이터를 학습하게 된다.   \n",
        "- 스케쥴러는 epoch에 따라 learning rate의 값을 조정하는 것을 의미한다. \n",
        "- `torch.optim.lr_scheduler`는 학습이 진행되면서 learning rate를 조절할 수 있는 다양한 함수를 제공한다. \n",
        "- 예를 들어 [여기](https://huggingface.co/docs/transformers/main_classes/optimizer_schedules#transformers.get_linear_schedule_with_warmup)의 그림에서 볼 수 있듯이 warup scheduler는 특정 step까지는 learning rate를 천천히 상승시키다가 고점에 도달하면 다시 하락시킨다. "
      ]
    },
    {
      "cell_type": "markdown",
      "metadata": {
        "id": "2Gte_JRMaMev"
      },
      "source": [
        "### `model`, `optimizer`, `scheduler`를 초기화하는 함수를 구현하라"
      ]
    },
    {
      "cell_type": "code",
      "execution_count": 20,
      "metadata": {
        "ExecuteTime": {
          "end_time": "2022-02-02T04:01:59.217735Z",
          "start_time": "2022-02-02T04:01:59.210482Z"
        },
        "id": "-sE7xjYcRD1p"
      },
      "outputs": [],
      "source": [
        "from torch.nn import CrossEntropyLoss\n",
        "from torch.optim import AdamW\n",
        "from torch.nn.utils import clip_grad_norm_\n",
        "from transformers import get_linear_schedule_with_warmup, get_constant_schedule"
      ]
    },
    {
      "cell_type": "code",
      "execution_count": 21,
      "metadata": {
        "ExecuteTime": {
          "end_time": "2022-02-02T04:01:59.549660Z",
          "start_time": "2022-02-02T04:01:59.545752Z"
        },
        "id": "2eTFXzy8VK9R"
      },
      "outputs": [],
      "source": [
        "def initializer(train_dataloader, epochs=2):\n",
        "    \"\"\"\n",
        "    모델, 옵티마이저, 스케쥴러 초기화\n",
        "    \"\"\"\n",
        "    \n",
        "    model = CustomClassifier(hidden_size=768, n_label=2)\n",
        "\n",
        "    optimizer = AdamW(\n",
        "        model.parameters(), # update 대상 파라미터를 입력\n",
        "        lr=2e-5,\n",
        "        eps=1e-8\n",
        "    )\n",
        "    \n",
        "    total_steps = len(train_dataloader) * epochs\n",
        "    print(f\"Total train steps with {epochs} epochs: {total_steps}\")\n",
        "\n",
        "    scheduler = get_linear_schedule_with_warmup(\n",
        "        optimizer, \n",
        "        num_warmup_steps = 0, # 여기서는 warmup을 사용하지 않는다.\n",
        "        num_training_steps = total_steps\n",
        "    )\n",
        "\n",
        "    return model, optimizer, scheduler"
      ]
    },
    {
      "cell_type": "markdown",
      "metadata": {
        "id": "NukaJc15UFxQ"
      },
      "source": [
        "### `train()` 함수에 `epoch`와 `clip_grad_norm` 추가\n",
        "- data_loader 학습을 `epoch`만큼 반복하도록 함수를 수정하라\n",
        "- gradient cliping은 미분 값 너무 큰 경우 gradient exploding되는 현상을 막기 위해 미분값이 `threshold`를 넘을 경우 특정 비율을 미분 값에 곱해 크기를 줄여준다.\n",
        "- [official document](https://pytorch.org/docs/stable/generated/torch.nn.utils.clip_grad_norm_.html)\n",
        "- [한국어 설명](https://kh-kim.gitbook.io/natural-language-processing-with-pytorch/00-cover-6/05-gradient-clipping)"
      ]
    },
    {
      "cell_type": "markdown",
      "metadata": {
        "id": "3JLtIHztaMew"
      },
      "source": [
        "### model, optimizer, scheduler의 파라미터 저장 함수 구현후 추가"
      ]
    },
    {
      "cell_type": "code",
      "execution_count": 22,
      "metadata": {
        "ExecuteTime": {
          "end_time": "2022-02-02T04:02:02.786877Z",
          "start_time": "2022-02-02T04:02:02.783726Z"
        },
        "id": "FyGTTZXWaMew"
      },
      "outputs": [],
      "source": [
        "def save_checkpoint(path, model, optimizer, scheduler, epoch, loss):\n",
        "    file_name = f'{path}/model.ckpt.{epoch}'\n",
        "    \n",
        "    torch.save(\n",
        "        {\n",
        "            'epoch': epoch,\n",
        "            'model_state_dict': model.state_dict(),\n",
        "            'optimizer_state_dict': optimizer.state_dict(),\n",
        "            'scheduler_state_dict': scheduler.state_dict(),\n",
        "            'loss' : loss\n",
        "        }, \n",
        "        file_name\n",
        "    )\n",
        "    \n",
        "    print(f\"Saving epoch {epoch} checkpoint at {file_name}\")"
      ]
    },
    {
      "cell_type": "code",
      "execution_count": 23,
      "metadata": {
        "ExecuteTime": {
          "end_time": "2022-02-02T04:02:10.624280Z",
          "start_time": "2022-02-02T04:02:10.615781Z"
        },
        "id": "ZvY5rxDKHQAp"
      },
      "outputs": [],
      "source": [
        "loss_fct = CrossEntropyLoss()\n",
        "\n",
        "def train(model, train_dataloader, valid_dataloader=None, epochs=2):\n",
        "        \n",
        "        # train_dataloaer 학습을 epochs만큼 반복\n",
        "        for epoch in range(epochs):\n",
        "            print(f\"*****Epoch {epoch} Train Start*****\")\n",
        "            \n",
        "            # 배치 단위 평균 loss와 총 평균 loss 계산하기위해 변수 생성\n",
        "            total_loss, batch_loss, batch_count = 0,0,0\n",
        "        \n",
        "            # model을 train 모드로 설정 & device 할당\n",
        "            model.train()\n",
        "            model.to(device)\n",
        "            \n",
        "            # data iterator를 돌면서 하나씩 학습\n",
        "            for step, batch in enumerate(train_dataloader):\n",
        "                batch_count+=1\n",
        "                \n",
        "                # tensor 연산 전, 각 tensor에 device 할당\n",
        "                batch = tuple(item.to(device) for item in batch)\n",
        "            \n",
        "                batch_input, batch_label = batch\n",
        "            \n",
        "                # batch마다 모델이 갖고 있는 기존 gradient를 초기화\n",
        "                model.zero_grad()\n",
        "            \n",
        "                # forward\n",
        "                logits = model(**batch_input)\n",
        "            \n",
        "                # loss\n",
        "                loss = loss_fct(logits, batch_label)\n",
        "                batch_loss += loss.item()\n",
        "                total_loss += loss.item()\n",
        "            \n",
        "                # backward -> 파라미터의 미분(gradient)를 자동으로 계산\n",
        "                loss.backward()\n",
        "                \n",
        "                # gradient clipping 적용 \n",
        "                clip_grad_norm_(model.parameters(), 1.0)\n",
        "                \n",
        "                # optimizer & scheduler 업데이트\n",
        "                optimizer.step()\n",
        "                scheduler.step()\n",
        "                \n",
        "                # 배치 10개씩 처리할 때마다 평균 loss와 lr를 출력\n",
        "                if (step % 10 == 0 and step != 0):\n",
        "                    learning_rate = optimizer.param_groups[0]['lr']\n",
        "                    print(f\"Epoch: {epoch}, Step : {step}, LR : {learning_rate}, Avg Loss : {batch_loss / batch_count:.4f}\")\n",
        "\n",
        "                    # reset \n",
        "                    batch_loss, batch_count = 0,0\n",
        "\n",
        "            print(f\"Epoch {epoch} Total Mean Loss : {total_loss/(step+1):.4f}\")\n",
        "            print(f\"*****Epoch {epoch} Train Finish*****\\n\")\n",
        "            \n",
        "            if valid_dataloader is not None:\n",
        "                print(f\"*****Epoch {epoch} Valid Start*****\")\n",
        "                valid_loss, valid_acc = validate(model, valid_dataloader)\n",
        "                print(f\"Epoch {epoch} Valid Loss : {valid_loss:.4f} Valid Acc : {valid_acc:.2f}\")\n",
        "                print(f\"*****Epoch {epoch} Valid Finish*****\\n\")\n",
        "            \n",
        "            # checkpoint 저장\n",
        "            save_checkpoint(\".\", model, optimizer, scheduler, epoch, total_loss/(step+1))\n",
        "                \n",
        "        print(\"Train Completed. End Program.\")\n",
        "                \n",
        "            \n"
      ]
    },
    {
      "cell_type": "markdown",
      "metadata": {
        "id": "ig0mabXzaMex"
      },
      "source": [
        "### `validate()` 함수 구현 \n",
        "- `validate()` 함수 내 model의 상태는 **evaluate**이어야 한다. evaluate 상태의 model은 dropout을 진행하지 않는다. \n",
        "- **forward**를 진행할 때 `with torch.no_grad(): ...` 설정해 미분 계산을 방지한다.\n"
      ]
    },
    {
      "cell_type": "code",
      "execution_count": 24,
      "metadata": {
        "ExecuteTime": {
          "end_time": "2022-02-02T04:02:11.636684Z",
          "start_time": "2022-02-02T04:02:11.631550Z"
        },
        "id": "VHpuV0CXUFxR"
      },
      "outputs": [],
      "source": [
        "def validate(model, valid_dataloader):\n",
        "   \n",
        "    # 모델을 evaluate 모드로 설정 & device 할당\n",
        "    model.eval()\n",
        "    model.to(device)\n",
        "    \n",
        "    total_loss, total_acc= 0,0\n",
        "        \n",
        "    for step, batch in enumerate(valid_dataloader):\n",
        "        \n",
        "        # tensor 연산 전, 각 tensor에 device 할당\n",
        "        batch = tuple(item.to(device) for item in batch)\n",
        "            \n",
        "        batch_input, batch_label = batch\n",
        "            \n",
        "        # gradient 계산하지 않음\n",
        "        with torch.no_grad():\n",
        "            logits = model(**batch_input)\n",
        "            \n",
        "        # loss\n",
        "        loss = loss_fct(logits, batch_label)\n",
        "        total_loss += loss.item()\n",
        "        \n",
        "        # accuracy\n",
        "        probs = F.softmax(logits, dim=1)\n",
        "        preds = torch.argmax(probs, dim=1).flatten()\n",
        "        acc = (preds == batch_label).cpu().numpy().mean()\n",
        "        total_acc+=acc\n",
        "    \n",
        "    total_loss = total_loss/(step+1)\n",
        "    total_acc = total_acc/(step+1)*100\n",
        "\n",
        "    return total_loss, total_acc\n"
      ]
    },
    {
      "cell_type": "markdown",
      "metadata": {
        "id": "4NWKzxIaf1QJ"
      },
      "source": [
        "## Advanced"
      ]
    },
    {
      "cell_type": "markdown",
      "metadata": {
        "id": "1cVoX1W6aMey"
      },
      "source": [
        "### 학습 데이터를 epoch 4까지 학습\n",
        "- 매 epoch마다 다음을 수행한다.\n",
        "  - 학습이 끝난 후 validate() 함수 실행 \n",
        "  - validate() 함수가 끝난 후 model save 함수 실행"
      ]
    },
    {
      "cell_type": "code",
      "execution_count": 25,
      "metadata": {
        "ExecuteTime": {
          "end_time": "2022-02-02T06:02:11.377612Z",
          "start_time": "2022-02-02T04:02:20.931961Z"
        },
        "colab": {
          "base_uri": "https://localhost:8080/"
        },
        "id": "7Er1qKtsf1QJ",
        "outputId": "bef946fd-86e0-4c62-e8a6-da43bbcc5964"
      },
      "outputs": [
        {
          "output_type": "stream",
          "name": "stderr",
          "text": [
            "Some weights of the model checkpoint at klue/bert-base were not used when initializing BertModel: ['cls.predictions.decoder.weight', 'cls.predictions.transform.dense.bias', 'cls.predictions.bias', 'cls.predictions.decoder.bias', 'cls.predictions.transform.dense.weight', 'cls.predictions.transform.LayerNorm.weight', 'cls.seq_relationship.bias', 'cls.predictions.transform.LayerNorm.bias', 'cls.seq_relationship.weight']\n",
            "- This IS expected if you are initializing BertModel from the checkpoint of a model trained on another task or with another architecture (e.g. initializing a BertForSequenceClassification model from a BertForPreTraining model).\n",
            "- This IS NOT expected if you are initializing BertModel from the checkpoint of a model that you expect to be exactly identical (initializing a BertForSequenceClassification model from a BertForSequenceClassification model).\n"
          ]
        },
        {
          "output_type": "stream",
          "name": "stdout",
          "text": [
            "Total train steps with 4 epochs: 1128\n",
            "*****Epoch 0 Train Start*****\n",
            "Epoch: 0, Step : 10, LR : 1.9804964539007094e-05, Avg Loss : 0.6408\n",
            "Epoch: 0, Step : 20, LR : 1.962765957446809e-05, Avg Loss : 0.5090\n",
            "Epoch: 0, Step : 30, LR : 1.945035460992908e-05, Avg Loss : 0.4697\n",
            "Epoch: 0, Step : 40, LR : 1.927304964539007e-05, Avg Loss : 0.4229\n",
            "Epoch: 0, Step : 50, LR : 1.9095744680851064e-05, Avg Loss : 0.3768\n",
            "Epoch: 0, Step : 60, LR : 1.891843971631206e-05, Avg Loss : 0.4066\n",
            "Epoch: 0, Step : 70, LR : 1.8741134751773053e-05, Avg Loss : 0.3981\n",
            "Epoch: 0, Step : 80, LR : 1.8563829787234043e-05, Avg Loss : 0.3698\n",
            "Epoch: 0, Step : 90, LR : 1.8386524822695038e-05, Avg Loss : 0.3601\n",
            "Epoch: 0, Step : 100, LR : 1.8209219858156032e-05, Avg Loss : 0.4019\n",
            "Epoch: 0, Step : 110, LR : 1.8031914893617023e-05, Avg Loss : 0.3714\n",
            "Epoch: 0, Step : 120, LR : 1.7854609929078013e-05, Avg Loss : 0.3634\n",
            "Epoch: 0, Step : 130, LR : 1.7677304964539008e-05, Avg Loss : 0.3959\n",
            "Epoch: 0, Step : 140, LR : 1.7500000000000002e-05, Avg Loss : 0.3623\n",
            "Epoch: 0, Step : 150, LR : 1.7322695035460996e-05, Avg Loss : 0.3704\n",
            "Epoch: 0, Step : 160, LR : 1.7145390070921987e-05, Avg Loss : 0.3556\n",
            "Epoch: 0, Step : 170, LR : 1.696808510638298e-05, Avg Loss : 0.3545\n",
            "Epoch: 0, Step : 180, LR : 1.6790780141843972e-05, Avg Loss : 0.3535\n",
            "Epoch: 0, Step : 190, LR : 1.6613475177304966e-05, Avg Loss : 0.3334\n",
            "Epoch: 0, Step : 200, LR : 1.6436170212765957e-05, Avg Loss : 0.3959\n",
            "Epoch: 0, Step : 210, LR : 1.625886524822695e-05, Avg Loss : 0.3077\n",
            "Epoch: 0, Step : 220, LR : 1.6081560283687945e-05, Avg Loss : 0.3592\n",
            "Epoch: 0, Step : 230, LR : 1.590425531914894e-05, Avg Loss : 0.3585\n",
            "Epoch: 0, Step : 240, LR : 1.572695035460993e-05, Avg Loss : 0.3032\n",
            "Epoch: 0, Step : 250, LR : 1.5549645390070924e-05, Avg Loss : 0.3221\n",
            "Epoch: 0, Step : 260, LR : 1.5372340425531915e-05, Avg Loss : 0.3476\n",
            "Epoch: 0, Step : 270, LR : 1.5195035460992908e-05, Avg Loss : 0.3903\n",
            "Epoch: 0, Step : 280, LR : 1.5017730496453902e-05, Avg Loss : 0.3381\n",
            "Epoch 0 Total Mean Loss : 0.3847\n",
            "*****Epoch 0 Train Finish*****\n",
            "\n",
            "*****Epoch 0 Valid Start*****\n",
            "Epoch 0 Valid Loss : 0.3451 Valid Acc : 84.65\n",
            "*****Epoch 0 Valid Finish*****\n",
            "\n",
            "Saving epoch 0 checkpoint at ./model.ckpt.0\n",
            "*****Epoch 1 Train Start*****\n",
            "Epoch: 1, Step : 10, LR : 1.4804964539007095e-05, Avg Loss : 0.2049\n",
            "Epoch: 1, Step : 20, LR : 1.4627659574468087e-05, Avg Loss : 0.2287\n",
            "Epoch: 1, Step : 30, LR : 1.4450354609929078e-05, Avg Loss : 0.2587\n",
            "Epoch: 1, Step : 40, LR : 1.427304964539007e-05, Avg Loss : 0.2510\n",
            "Epoch: 1, Step : 50, LR : 1.4095744680851065e-05, Avg Loss : 0.2149\n",
            "Epoch: 1, Step : 60, LR : 1.3918439716312057e-05, Avg Loss : 0.2243\n",
            "Epoch: 1, Step : 70, LR : 1.3741134751773051e-05, Avg Loss : 0.2545\n",
            "Epoch: 1, Step : 80, LR : 1.3563829787234044e-05, Avg Loss : 0.2227\n",
            "Epoch: 1, Step : 90, LR : 1.3386524822695038e-05, Avg Loss : 0.2742\n",
            "Epoch: 1, Step : 100, LR : 1.320921985815603e-05, Avg Loss : 0.1798\n",
            "Epoch: 1, Step : 110, LR : 1.3031914893617021e-05, Avg Loss : 0.2235\n",
            "Epoch: 1, Step : 120, LR : 1.2854609929078014e-05, Avg Loss : 0.2180\n",
            "Epoch: 1, Step : 130, LR : 1.2677304964539008e-05, Avg Loss : 0.2789\n",
            "Epoch: 1, Step : 140, LR : 1.25e-05, Avg Loss : 0.1817\n",
            "Epoch: 1, Step : 150, LR : 1.2322695035460995e-05, Avg Loss : 0.1651\n",
            "Epoch: 1, Step : 160, LR : 1.2145390070921987e-05, Avg Loss : 0.2161\n",
            "Epoch: 1, Step : 170, LR : 1.196808510638298e-05, Avg Loss : 0.2433\n",
            "Epoch: 1, Step : 180, LR : 1.1790780141843972e-05, Avg Loss : 0.3330\n",
            "Epoch: 1, Step : 190, LR : 1.1613475177304965e-05, Avg Loss : 0.2048\n",
            "Epoch: 1, Step : 200, LR : 1.1436170212765957e-05, Avg Loss : 0.1768\n",
            "Epoch: 1, Step : 210, LR : 1.1258865248226952e-05, Avg Loss : 0.2722\n",
            "Epoch: 1, Step : 220, LR : 1.1081560283687944e-05, Avg Loss : 0.2176\n",
            "Epoch: 1, Step : 230, LR : 1.0904255319148938e-05, Avg Loss : 0.2691\n",
            "Epoch: 1, Step : 240, LR : 1.072695035460993e-05, Avg Loss : 0.2287\n",
            "Epoch: 1, Step : 250, LR : 1.0549645390070923e-05, Avg Loss : 0.2390\n",
            "Epoch: 1, Step : 260, LR : 1.0372340425531916e-05, Avg Loss : 0.2126\n",
            "Epoch: 1, Step : 270, LR : 1.0195035460992908e-05, Avg Loss : 0.2437\n",
            "Epoch: 1, Step : 280, LR : 1.00177304964539e-05, Avg Loss : 0.2507\n",
            "Epoch 1 Total Mean Loss : 0.2312\n",
            "*****Epoch 1 Train Finish*****\n",
            "\n",
            "*****Epoch 1 Valid Start*****\n",
            "Epoch 1 Valid Loss : 0.4038 Valid Acc : 84.53\n",
            "*****Epoch 1 Valid Finish*****\n",
            "\n",
            "Saving epoch 1 checkpoint at ./model.ckpt.1\n",
            "*****Epoch 2 Train Start*****\n",
            "Epoch: 2, Step : 10, LR : 9.804964539007093e-06, Avg Loss : 0.2021\n",
            "Epoch: 2, Step : 20, LR : 9.627659574468086e-06, Avg Loss : 0.1505\n",
            "Epoch: 2, Step : 30, LR : 9.450354609929078e-06, Avg Loss : 0.1749\n",
            "Epoch: 2, Step : 40, LR : 9.273049645390073e-06, Avg Loss : 0.1757\n",
            "Epoch: 2, Step : 50, LR : 9.095744680851063e-06, Avg Loss : 0.1323\n",
            "Epoch: 2, Step : 60, LR : 8.918439716312058e-06, Avg Loss : 0.1477\n",
            "Epoch: 2, Step : 70, LR : 8.74113475177305e-06, Avg Loss : 0.1586\n",
            "Epoch: 2, Step : 80, LR : 8.563829787234044e-06, Avg Loss : 0.1296\n",
            "Epoch: 2, Step : 90, LR : 8.386524822695035e-06, Avg Loss : 0.1505\n",
            "Epoch: 2, Step : 100, LR : 8.20921985815603e-06, Avg Loss : 0.1369\n",
            "Epoch: 2, Step : 110, LR : 8.031914893617022e-06, Avg Loss : 0.1646\n",
            "Epoch: 2, Step : 120, LR : 7.854609929078016e-06, Avg Loss : 0.1280\n",
            "Epoch: 2, Step : 130, LR : 7.677304964539007e-06, Avg Loss : 0.1338\n",
            "Epoch: 2, Step : 140, LR : 7.500000000000001e-06, Avg Loss : 0.1530\n",
            "Epoch: 2, Step : 150, LR : 7.3226950354609935e-06, Avg Loss : 0.1641\n",
            "Epoch: 2, Step : 160, LR : 7.145390070921986e-06, Avg Loss : 0.1721\n",
            "Epoch: 2, Step : 170, LR : 6.968085106382979e-06, Avg Loss : 0.1858\n",
            "Epoch: 2, Step : 180, LR : 6.790780141843972e-06, Avg Loss : 0.1448\n",
            "Epoch: 2, Step : 190, LR : 6.613475177304965e-06, Avg Loss : 0.1184\n",
            "Epoch: 2, Step : 200, LR : 6.436170212765958e-06, Avg Loss : 0.1160\n",
            "Epoch: 2, Step : 210, LR : 6.258865248226951e-06, Avg Loss : 0.1470\n",
            "Epoch: 2, Step : 220, LR : 6.081560283687944e-06, Avg Loss : 0.1719\n",
            "Epoch: 2, Step : 230, LR : 5.904255319148937e-06, Avg Loss : 0.2036\n",
            "Epoch: 2, Step : 240, LR : 5.7269503546099295e-06, Avg Loss : 0.0880\n",
            "Epoch: 2, Step : 250, LR : 5.549645390070923e-06, Avg Loss : 0.1108\n",
            "Epoch: 2, Step : 260, LR : 5.372340425531915e-06, Avg Loss : 0.1015\n",
            "Epoch: 2, Step : 270, LR : 5.195035460992908e-06, Avg Loss : 0.2241\n",
            "Epoch: 2, Step : 280, LR : 5.017730496453901e-06, Avg Loss : 0.1206\n",
            "Epoch 2 Total Mean Loss : 0.1499\n",
            "*****Epoch 2 Train Finish*****\n",
            "\n",
            "*****Epoch 2 Valid Start*****\n",
            "Epoch 2 Valid Loss : 0.4480 Valid Acc : 85.86\n",
            "*****Epoch 2 Valid Finish*****\n",
            "\n",
            "Saving epoch 2 checkpoint at ./model.ckpt.2\n",
            "*****Epoch 3 Train Start*****\n",
            "Epoch: 3, Step : 10, LR : 4.804964539007093e-06, Avg Loss : 0.0732\n",
            "Epoch: 3, Step : 20, LR : 4.6276595744680855e-06, Avg Loss : 0.0653\n",
            "Epoch: 3, Step : 30, LR : 4.450354609929078e-06, Avg Loss : 0.1091\n",
            "Epoch: 3, Step : 40, LR : 4.273049645390071e-06, Avg Loss : 0.1251\n",
            "Epoch: 3, Step : 50, LR : 4.095744680851064e-06, Avg Loss : 0.0830\n",
            "Epoch: 3, Step : 60, LR : 3.918439716312057e-06, Avg Loss : 0.0690\n",
            "Epoch: 3, Step : 70, LR : 3.74113475177305e-06, Avg Loss : 0.1173\n",
            "Epoch: 3, Step : 80, LR : 3.5638297872340426e-06, Avg Loss : 0.1248\n",
            "Epoch: 3, Step : 90, LR : 3.386524822695036e-06, Avg Loss : 0.0900\n",
            "Epoch: 3, Step : 100, LR : 3.2092198581560285e-06, Avg Loss : 0.0510\n",
            "Epoch: 3, Step : 110, LR : 3.031914893617022e-06, Avg Loss : 0.1413\n",
            "Epoch: 3, Step : 120, LR : 2.8546099290780144e-06, Avg Loss : 0.0838\n",
            "Epoch: 3, Step : 130, LR : 2.6773049645390077e-06, Avg Loss : 0.1041\n",
            "Epoch: 3, Step : 140, LR : 2.5e-06, Avg Loss : 0.1869\n",
            "Epoch: 3, Step : 150, LR : 2.322695035460993e-06, Avg Loss : 0.0626\n",
            "Epoch: 3, Step : 160, LR : 2.145390070921986e-06, Avg Loss : 0.1035\n",
            "Epoch: 3, Step : 170, LR : 1.968085106382979e-06, Avg Loss : 0.0945\n",
            "Epoch: 3, Step : 180, LR : 1.790780141843972e-06, Avg Loss : 0.1206\n",
            "Epoch: 3, Step : 190, LR : 1.6134751773049648e-06, Avg Loss : 0.1280\n",
            "Epoch: 3, Step : 200, LR : 1.4361702127659578e-06, Avg Loss : 0.1059\n",
            "Epoch: 3, Step : 210, LR : 1.2588652482269503e-06, Avg Loss : 0.0662\n",
            "Epoch: 3, Step : 220, LR : 1.0815602836879434e-06, Avg Loss : 0.0806\n",
            "Epoch: 3, Step : 230, LR : 9.042553191489363e-07, Avg Loss : 0.0651\n",
            "Epoch: 3, Step : 240, LR : 7.26950354609929e-07, Avg Loss : 0.1279\n",
            "Epoch: 3, Step : 250, LR : 5.496453900709221e-07, Avg Loss : 0.1050\n",
            "Epoch: 3, Step : 260, LR : 3.723404255319149e-07, Avg Loss : 0.0737\n",
            "Epoch: 3, Step : 270, LR : 1.9503546099290782e-07, Avg Loss : 0.1398\n",
            "Epoch: 3, Step : 280, LR : 1.773049645390071e-08, Avg Loss : 0.0690\n",
            "Epoch 3 Total Mean Loss : 0.0984\n",
            "*****Epoch 3 Train Finish*****\n",
            "\n",
            "*****Epoch 3 Valid Start*****\n",
            "Epoch 3 Valid Loss : 0.5044 Valid Acc : 85.66\n",
            "*****Epoch 3 Valid Finish*****\n",
            "\n",
            "Saving epoch 3 checkpoint at ./model.ckpt.3\n",
            "Train Completed. End Program.\n"
          ]
        }
      ],
      "source": [
        "epochs=4\n",
        "model, optimizer, scheduler = initializer(train_dataloader, epochs)\n",
        "train(model, train_dataloader, valid_dataloader, epochs)"
      ]
    },
    {
      "cell_type": "markdown",
      "metadata": {
        "ExecuteTime": {
          "end_time": "2022-02-02T03:27:18.246441Z",
          "start_time": "2022-02-02T03:27:18.236617Z"
        },
        "id": "vA3_vqqCXccc"
      },
      "source": [
        "### 가장 dev acc 성능이 높았던 epoch의 모델의 체크 포인트를 불러와 로드하자"
      ]
    },
    {
      "cell_type": "code",
      "execution_count": 26,
      "metadata": {
        "ExecuteTime": {
          "end_time": "2022-02-02T06:22:27.646150Z",
          "start_time": "2022-02-02T06:22:26.945572Z"
        },
        "id": "XxO61K5eaMez"
      },
      "outputs": [],
      "source": [
        "checkpoint = torch.load('model.ckpt.2')"
      ]
    },
    {
      "cell_type": "code",
      "execution_count": 27,
      "metadata": {
        "ExecuteTime": {
          "end_time": "2022-02-02T06:22:36.415665Z",
          "start_time": "2022-02-02T06:22:36.407250Z"
        },
        "id": "4mZuAKD-aMez",
        "outputId": "f978b940-a29f-455a-f813-922452f6e696",
        "colab": {
          "base_uri": "https://localhost:8080/"
        }
      },
      "outputs": [
        {
          "output_type": "execute_result",
          "data": {
            "text/plain": [
              "dict_keys(['epoch', 'model_state_dict', 'optimizer_state_dict', 'scheduler_state_dict', 'loss'])"
            ]
          },
          "metadata": {},
          "execution_count": 27
        }
      ],
      "source": [
        "checkpoint.keys()"
      ]
    },
    {
      "cell_type": "code",
      "execution_count": 28,
      "metadata": {
        "ExecuteTime": {
          "end_time": "2022-02-02T06:22:40.272939Z",
          "start_time": "2022-02-02T06:22:37.010491Z"
        },
        "id": "0_aa2v4IaMez",
        "outputId": "6b210229-dd73-4885-946d-58ab4c17915b",
        "colab": {
          "base_uri": "https://localhost:8080/"
        }
      },
      "outputs": [
        {
          "output_type": "stream",
          "name": "stderr",
          "text": [
            "Some weights of the model checkpoint at klue/bert-base were not used when initializing BertModel: ['cls.predictions.decoder.weight', 'cls.predictions.transform.dense.bias', 'cls.predictions.bias', 'cls.predictions.decoder.bias', 'cls.predictions.transform.dense.weight', 'cls.predictions.transform.LayerNorm.weight', 'cls.seq_relationship.bias', 'cls.predictions.transform.LayerNorm.bias', 'cls.seq_relationship.weight']\n",
            "- This IS expected if you are initializing BertModel from the checkpoint of a model trained on another task or with another architecture (e.g. initializing a BertForSequenceClassification model from a BertForPreTraining model).\n",
            "- This IS NOT expected if you are initializing BertModel from the checkpoint of a model that you expect to be exactly identical (initializing a BertForSequenceClassification model from a BertForSequenceClassification model).\n"
          ]
        },
        {
          "output_type": "stream",
          "name": "stdout",
          "text": [
            "Total train steps with 1 epochs: 282\n"
          ]
        }
      ],
      "source": [
        "epochs=1\n",
        "model, optimizer, scheduler = initializer(train_dataloader, epochs)"
      ]
    },
    {
      "cell_type": "code",
      "execution_count": 29,
      "metadata": {
        "ExecuteTime": {
          "end_time": "2022-02-02T06:22:40.443912Z",
          "start_time": "2022-02-02T06:22:40.274323Z"
        },
        "id": "qLkEzX8laMe0",
        "outputId": "542f5142-7115-43a2-cbef-ece2c777844f",
        "colab": {
          "base_uri": "https://localhost:8080/"
        }
      },
      "outputs": [
        {
          "output_type": "execute_result",
          "data": {
            "text/plain": [
              "<All keys matched successfully>"
            ]
          },
          "metadata": {},
          "execution_count": 29
        }
      ],
      "source": [
        "model.load_state_dict(checkpoint[\"model_state_dict\"])"
      ]
    },
    {
      "cell_type": "markdown",
      "metadata": {
        "id": "KqjwDXl8aMe0"
      },
      "source": [
        "### 모델 예측 함수 구현\n",
        "- test_dataloader를 입력받아 모델이 예측한 확률값 (probs)과 실제 정답 (label) 을 출력하는 `\bpredict()` 함수를 구현하자.\n",
        "- 함수 정의\n",
        "  - 입력 매개변수\n",
        "    - `model` : `CustomClassifier` 모델. logits를 반환함 \n",
        "    - `test_dataloader` : test 데이터셋의 텍스트와 레이블을 배치로 갖는 dataloader\n",
        "  - 조건\n",
        "    - `test_dataloader`는 이터레이터기 때문에 이터레이터를 순회하면서 `all_logits` 리스트에 배치 단위의 logits를 저장하고 `all_labels` 리스트에 배치 단위의 레이블 (0 또는 1 값)을 저장하라\n",
        "  - 반환값\n",
        "    - `probs`\n",
        "      - logits에 softmax 함수를 취한 확률값. (test data 개수, label 개수) shape을 가짐. \bnp.array 타입으로 데이터 타입을 변환할 것.\n",
        "    - `labels`\n",
        "      - 0 또는 1 값을 갖는 np.array. (test data 개수,) shape을 가짐."
      ]
    },
    {
      "cell_type": "code",
      "execution_count": 30,
      "metadata": {
        "ExecuteTime": {
          "end_time": "2022-02-02T06:22:48.062229Z",
          "start_time": "2022-02-02T06:22:48.057531Z"
        },
        "id": "yQ7WiD1Oigg9"
      },
      "outputs": [],
      "source": [
        "def predict(model, test_dataloader):\n",
        "    \"\"\"\n",
        "    test_dataloader의 label별 확률값과 실제 label 값을 반환\n",
        "    \"\"\"\n",
        "\n",
        "    model.eval()\n",
        "    model.to(device)\n",
        "\n",
        "    all_logits = []\n",
        "    all_labels = []\n",
        "\n",
        "    for step, batch in enumerate(test_dataloader):\n",
        "        print(f\"{step}/{len(test_dataloader)}\")\n",
        "        \n",
        "        batch_input, batch_label = batch\n",
        "        \n",
        "        batch_input = batch_input.to(device)\n",
        "        \n",
        "        with torch.no_grad():\n",
        "            logits = model(**batch_input)\n",
        "            all_logits.append(logits)\n",
        "        all_labels.extend(batch_label)\n",
        "\n",
        "    all_logits = torch.cat(all_logits, dim=0)\n",
        "    probs = F.softmax(all_logits, dim=1).cpu().numpy() # logits을 확률값으로 변환 & Tensor 타입을 numpy.array 타입으로 변환\n",
        "    all_labels = np.array(all_labels) #  Tensor 타입을 numpy.array 타입으로 변환\n",
        "\n",
        "    return probs, all_labels\n",
        "\n"
      ]
    },
    {
      "cell_type": "markdown",
      "source": [
        "- 모델이 예측한 확률값과 실제 label을 입력 받아 정확도를 출력하는 **accuracy()** 함수를 구현하자. \n",
        "- 함수 정의 \n",
        "  - 입력 매개변수 \n",
        "    - `probs` : `predict()` 함수의 반환값. 2차원의 np.array\n",
        "    - `labels` : `predict()` 함수의 반환값. 1차원의 np.array\n",
        "  - 조건\n",
        "    - `probs`의 확률값이 0.5 이상이면 1, 이하이면 0이 되도록 만든다. 모델이 예측한 레이블을 실제값(`labels`)과 비교해 예측값과 실제값이 같으면 1, 다르면 0 점수를 준다. 모든 데이터에 대해 점수의 평균값이 accuracy 값이다. \n",
        "  - 반환값 \n",
        "    - `acc` : 정확도 (Float type)"
      ],
      "metadata": {
        "id": "xeVEopukSA7T"
      }
    },
    {
      "cell_type": "code",
      "execution_count": 31,
      "metadata": {
        "ExecuteTime": {
          "end_time": "2022-02-02T06:22:48.296419Z",
          "start_time": "2022-02-02T06:22:48.293737Z"
        },
        "id": "nHC9SRKfaMe0"
      },
      "outputs": [],
      "source": [
        "def accuracy(probs, labels):\n",
        "    y_pred = np.where(probs>=0.5, 1, 0) # probs(확률값)을 label로 변경(0.5 이상이면 1, 0.5 미만이면 0)\n",
        "    return float(sum(labels == np.argmax(y_pred, axis=1)) / len(labels)) # 정확도 계산"
      ]
    },
    {
      "cell_type": "code",
      "execution_count": 32,
      "metadata": {
        "ExecuteTime": {
          "end_time": "2022-02-02T06:24:22.752497Z",
          "start_time": "2022-02-02T06:22:48.652784Z"
        },
        "id": "SwkrRPAhjsXb",
        "outputId": "0a9d6559-b811-485b-d304-1e2e862f9fe1",
        "colab": {
          "base_uri": "https://localhost:8080/"
        }
      },
      "outputs": [
        {
          "output_type": "stream",
          "name": "stdout",
          "text": [
            "0/16\n",
            "1/16\n",
            "2/16\n",
            "3/16\n",
            "4/16\n",
            "5/16\n",
            "6/16\n",
            "7/16\n",
            "8/16\n",
            "9/16\n",
            "10/16\n",
            "11/16\n",
            "12/16\n",
            "13/16\n",
            "14/16\n",
            "15/16\n"
          ]
        }
      ],
      "source": [
        "probs, labels = predict(model, test_dataloader)"
      ]
    },
    {
      "cell_type": "code",
      "execution_count": 33,
      "metadata": {
        "ExecuteTime": {
          "end_time": "2022-02-02T06:24:22.759367Z",
          "start_time": "2022-02-02T06:24:22.753997Z"
        },
        "id": "UN1Yi9kmaMe0",
        "outputId": "77912dae-c424-4fbd-bac4-f072f095a70f",
        "colab": {
          "base_uri": "https://localhost:8080/"
        }
      },
      "outputs": [
        {
          "output_type": "execute_result",
          "data": {
            "text/plain": [
              "0.874"
            ]
          },
          "metadata": {},
          "execution_count": 33
        }
      ],
      "source": [
        "accuracy(probs, labels)"
      ]
    },
    {
      "cell_type": "markdown",
      "metadata": {
        "id": "3GGCFaapaMe1"
      },
      "source": [
        "### `sklearn.metrics`의 `accuracy_score`, `roc_auc_score` 함수를 이용해 정확도와 auc를 계산하라"
      ]
    },
    {
      "cell_type": "code",
      "execution_count": 34,
      "metadata": {
        "ExecuteTime": {
          "end_time": "2022-02-02T06:24:23.111879Z",
          "start_time": "2022-02-02T06:24:22.760568Z"
        },
        "id": "8Srq-RsgaMe1"
      },
      "outputs": [],
      "source": [
        "from sklearn.metrics import roc_auc_score, accuracy_score"
      ]
    },
    {
      "cell_type": "code",
      "execution_count": 35,
      "metadata": {
        "ExecuteTime": {
          "end_time": "2022-02-02T06:24:23.116872Z",
          "start_time": "2022-02-02T06:24:23.113064Z"
        },
        "colab": {
          "base_uri": "https://localhost:8080/"
        },
        "id": "p9BEe2mflTem",
        "outputId": "e74ee42a-5aa9-4cf7-8e2e-998c22a4f7ab"
      },
      "outputs": [
        {
          "output_type": "execute_result",
          "data": {
            "text/plain": [
              "0.874"
            ]
          },
          "metadata": {},
          "execution_count": 35
        }
      ],
      "source": [
        "# 정확도 출력\n",
        "\n",
        "accuracy_score(labels,  np.argmax(probs, axis=1))"
      ]
    },
    {
      "cell_type": "code",
      "execution_count": 36,
      "metadata": {
        "ExecuteTime": {
          "end_time": "2022-02-02T06:24:23.125650Z",
          "start_time": "2022-02-02T06:24:23.117847Z"
        },
        "id": "oCl6BiPGpCPW",
        "outputId": "0e8c750e-7135-4cc3-cab1-c9ff8392ff40",
        "colab": {
          "base_uri": "https://localhost:8080/"
        }
      },
      "outputs": [
        {
          "output_type": "execute_result",
          "data": {
            "text/plain": [
              "0.938912"
            ]
          },
          "metadata": {},
          "execution_count": 36
        }
      ],
      "source": [
        "# auc 출력\n",
        "\n",
        "roc_auc_score(labels, probs[:,1])"
      ]
    }
  ],
  "metadata": {
    "accelerator": "GPU",
    "colab": {
      "collapsed_sections": [],
      "name": "Week2_4_assignment_ta.ipynb",
      "provenance": []
    },
    "kernelspec": {
      "display_name": "torch",
      "language": "python",
      "name": "torch"
    },
    "language_info": {
      "codemirror_mode": {
        "name": "ipython",
        "version": 3
      },
      "file_extension": ".py",
      "mimetype": "text/x-python",
      "name": "python",
      "nbconvert_exporter": "python",
      "pygments_lexer": "ipython3",
      "version": "3.8.11"
    },
    "widgets": {
      "application/vnd.jupyter.widget-state+json": {
        "6d8d70fbbad54fdbb836b006c2f4d560": {
          "model_module": "@jupyter-widgets/controls",
          "model_name": "HBoxModel",
          "model_module_version": "1.5.0",
          "state": {
            "_dom_classes": [],
            "_model_module": "@jupyter-widgets/controls",
            "_model_module_version": "1.5.0",
            "_model_name": "HBoxModel",
            "_view_count": null,
            "_view_module": "@jupyter-widgets/controls",
            "_view_module_version": "1.5.0",
            "_view_name": "HBoxView",
            "box_style": "",
            "children": [
              "IPY_MODEL_d137adcba9ba49058ead09b18ffafa81",
              "IPY_MODEL_8d47934f5c36443bb0857fa0883514f6",
              "IPY_MODEL_c172d1c412fc436aa3bddac8666bd8a6"
            ],
            "layout": "IPY_MODEL_25c7287c55e145fe842736788aac9370"
          }
        },
        "d137adcba9ba49058ead09b18ffafa81": {
          "model_module": "@jupyter-widgets/controls",
          "model_name": "HTMLModel",
          "model_module_version": "1.5.0",
          "state": {
            "_dom_classes": [],
            "_model_module": "@jupyter-widgets/controls",
            "_model_module_version": "1.5.0",
            "_model_name": "HTMLModel",
            "_view_count": null,
            "_view_module": "@jupyter-widgets/controls",
            "_view_module_version": "1.5.0",
            "_view_name": "HTMLView",
            "description": "",
            "description_tooltip": null,
            "layout": "IPY_MODEL_5bbd8b879dbc4cbeab3f23b1cc38458d",
            "placeholder": "​",
            "style": "IPY_MODEL_b384a8f4620345f486510e87cc8d1e9d",
            "value": "Downloading: 100%"
          }
        },
        "8d47934f5c36443bb0857fa0883514f6": {
          "model_module": "@jupyter-widgets/controls",
          "model_name": "FloatProgressModel",
          "model_module_version": "1.5.0",
          "state": {
            "_dom_classes": [],
            "_model_module": "@jupyter-widgets/controls",
            "_model_module_version": "1.5.0",
            "_model_name": "FloatProgressModel",
            "_view_count": null,
            "_view_module": "@jupyter-widgets/controls",
            "_view_module_version": "1.5.0",
            "_view_name": "ProgressView",
            "bar_style": "success",
            "description": "",
            "description_tooltip": null,
            "layout": "IPY_MODEL_e3a00221fde848dcb5fb0cd7e2a8bf40",
            "max": 248477,
            "min": 0,
            "orientation": "horizontal",
            "style": "IPY_MODEL_650f79f9a58e4029943ff31820ba8901",
            "value": 248477
          }
        },
        "c172d1c412fc436aa3bddac8666bd8a6": {
          "model_module": "@jupyter-widgets/controls",
          "model_name": "HTMLModel",
          "model_module_version": "1.5.0",
          "state": {
            "_dom_classes": [],
            "_model_module": "@jupyter-widgets/controls",
            "_model_module_version": "1.5.0",
            "_model_name": "HTMLModel",
            "_view_count": null,
            "_view_module": "@jupyter-widgets/controls",
            "_view_module_version": "1.5.0",
            "_view_name": "HTMLView",
            "description": "",
            "description_tooltip": null,
            "layout": "IPY_MODEL_b10cb72d506f4d6f9fdbab173f9e9373",
            "placeholder": "​",
            "style": "IPY_MODEL_e5235b04e195438e83a71f7610a71941",
            "value": " 243k/243k [00:00&lt;00:00, 674kB/s]"
          }
        },
        "25c7287c55e145fe842736788aac9370": {
          "model_module": "@jupyter-widgets/base",
          "model_name": "LayoutModel",
          "model_module_version": "1.2.0",
          "state": {
            "_model_module": "@jupyter-widgets/base",
            "_model_module_version": "1.2.0",
            "_model_name": "LayoutModel",
            "_view_count": null,
            "_view_module": "@jupyter-widgets/base",
            "_view_module_version": "1.2.0",
            "_view_name": "LayoutView",
            "align_content": null,
            "align_items": null,
            "align_self": null,
            "border": null,
            "bottom": null,
            "display": null,
            "flex": null,
            "flex_flow": null,
            "grid_area": null,
            "grid_auto_columns": null,
            "grid_auto_flow": null,
            "grid_auto_rows": null,
            "grid_column": null,
            "grid_gap": null,
            "grid_row": null,
            "grid_template_areas": null,
            "grid_template_columns": null,
            "grid_template_rows": null,
            "height": null,
            "justify_content": null,
            "justify_items": null,
            "left": null,
            "margin": null,
            "max_height": null,
            "max_width": null,
            "min_height": null,
            "min_width": null,
            "object_fit": null,
            "object_position": null,
            "order": null,
            "overflow": null,
            "overflow_x": null,
            "overflow_y": null,
            "padding": null,
            "right": null,
            "top": null,
            "visibility": null,
            "width": null
          }
        },
        "5bbd8b879dbc4cbeab3f23b1cc38458d": {
          "model_module": "@jupyter-widgets/base",
          "model_name": "LayoutModel",
          "model_module_version": "1.2.0",
          "state": {
            "_model_module": "@jupyter-widgets/base",
            "_model_module_version": "1.2.0",
            "_model_name": "LayoutModel",
            "_view_count": null,
            "_view_module": "@jupyter-widgets/base",
            "_view_module_version": "1.2.0",
            "_view_name": "LayoutView",
            "align_content": null,
            "align_items": null,
            "align_self": null,
            "border": null,
            "bottom": null,
            "display": null,
            "flex": null,
            "flex_flow": null,
            "grid_area": null,
            "grid_auto_columns": null,
            "grid_auto_flow": null,
            "grid_auto_rows": null,
            "grid_column": null,
            "grid_gap": null,
            "grid_row": null,
            "grid_template_areas": null,
            "grid_template_columns": null,
            "grid_template_rows": null,
            "height": null,
            "justify_content": null,
            "justify_items": null,
            "left": null,
            "margin": null,
            "max_height": null,
            "max_width": null,
            "min_height": null,
            "min_width": null,
            "object_fit": null,
            "object_position": null,
            "order": null,
            "overflow": null,
            "overflow_x": null,
            "overflow_y": null,
            "padding": null,
            "right": null,
            "top": null,
            "visibility": null,
            "width": null
          }
        },
        "b384a8f4620345f486510e87cc8d1e9d": {
          "model_module": "@jupyter-widgets/controls",
          "model_name": "DescriptionStyleModel",
          "model_module_version": "1.5.0",
          "state": {
            "_model_module": "@jupyter-widgets/controls",
            "_model_module_version": "1.5.0",
            "_model_name": "DescriptionStyleModel",
            "_view_count": null,
            "_view_module": "@jupyter-widgets/base",
            "_view_module_version": "1.2.0",
            "_view_name": "StyleView",
            "description_width": ""
          }
        },
        "e3a00221fde848dcb5fb0cd7e2a8bf40": {
          "model_module": "@jupyter-widgets/base",
          "model_name": "LayoutModel",
          "model_module_version": "1.2.0",
          "state": {
            "_model_module": "@jupyter-widgets/base",
            "_model_module_version": "1.2.0",
            "_model_name": "LayoutModel",
            "_view_count": null,
            "_view_module": "@jupyter-widgets/base",
            "_view_module_version": "1.2.0",
            "_view_name": "LayoutView",
            "align_content": null,
            "align_items": null,
            "align_self": null,
            "border": null,
            "bottom": null,
            "display": null,
            "flex": null,
            "flex_flow": null,
            "grid_area": null,
            "grid_auto_columns": null,
            "grid_auto_flow": null,
            "grid_auto_rows": null,
            "grid_column": null,
            "grid_gap": null,
            "grid_row": null,
            "grid_template_areas": null,
            "grid_template_columns": null,
            "grid_template_rows": null,
            "height": null,
            "justify_content": null,
            "justify_items": null,
            "left": null,
            "margin": null,
            "max_height": null,
            "max_width": null,
            "min_height": null,
            "min_width": null,
            "object_fit": null,
            "object_position": null,
            "order": null,
            "overflow": null,
            "overflow_x": null,
            "overflow_y": null,
            "padding": null,
            "right": null,
            "top": null,
            "visibility": null,
            "width": null
          }
        },
        "650f79f9a58e4029943ff31820ba8901": {
          "model_module": "@jupyter-widgets/controls",
          "model_name": "ProgressStyleModel",
          "model_module_version": "1.5.0",
          "state": {
            "_model_module": "@jupyter-widgets/controls",
            "_model_module_version": "1.5.0",
            "_model_name": "ProgressStyleModel",
            "_view_count": null,
            "_view_module": "@jupyter-widgets/base",
            "_view_module_version": "1.2.0",
            "_view_name": "StyleView",
            "bar_color": null,
            "description_width": ""
          }
        },
        "b10cb72d506f4d6f9fdbab173f9e9373": {
          "model_module": "@jupyter-widgets/base",
          "model_name": "LayoutModel",
          "model_module_version": "1.2.0",
          "state": {
            "_model_module": "@jupyter-widgets/base",
            "_model_module_version": "1.2.0",
            "_model_name": "LayoutModel",
            "_view_count": null,
            "_view_module": "@jupyter-widgets/base",
            "_view_module_version": "1.2.0",
            "_view_name": "LayoutView",
            "align_content": null,
            "align_items": null,
            "align_self": null,
            "border": null,
            "bottom": null,
            "display": null,
            "flex": null,
            "flex_flow": null,
            "grid_area": null,
            "grid_auto_columns": null,
            "grid_auto_flow": null,
            "grid_auto_rows": null,
            "grid_column": null,
            "grid_gap": null,
            "grid_row": null,
            "grid_template_areas": null,
            "grid_template_columns": null,
            "grid_template_rows": null,
            "height": null,
            "justify_content": null,
            "justify_items": null,
            "left": null,
            "margin": null,
            "max_height": null,
            "max_width": null,
            "min_height": null,
            "min_width": null,
            "object_fit": null,
            "object_position": null,
            "order": null,
            "overflow": null,
            "overflow_x": null,
            "overflow_y": null,
            "padding": null,
            "right": null,
            "top": null,
            "visibility": null,
            "width": null
          }
        },
        "e5235b04e195438e83a71f7610a71941": {
          "model_module": "@jupyter-widgets/controls",
          "model_name": "DescriptionStyleModel",
          "model_module_version": "1.5.0",
          "state": {
            "_model_module": "@jupyter-widgets/controls",
            "_model_module_version": "1.5.0",
            "_model_name": "DescriptionStyleModel",
            "_view_count": null,
            "_view_module": "@jupyter-widgets/base",
            "_view_module_version": "1.2.0",
            "_view_name": "StyleView",
            "description_width": ""
          }
        },
        "379ec19112404c73aac6b5c51e4f4dd3": {
          "model_module": "@jupyter-widgets/controls",
          "model_name": "HBoxModel",
          "model_module_version": "1.5.0",
          "state": {
            "_dom_classes": [],
            "_model_module": "@jupyter-widgets/controls",
            "_model_module_version": "1.5.0",
            "_model_name": "HBoxModel",
            "_view_count": null,
            "_view_module": "@jupyter-widgets/controls",
            "_view_module_version": "1.5.0",
            "_view_name": "HBoxView",
            "box_style": "",
            "children": [
              "IPY_MODEL_91b17401fe26410da1eae54af3a3f4d6",
              "IPY_MODEL_9fea121ede094354a7a91d69360e6097",
              "IPY_MODEL_4e2f57f87d8e4e8681c5df198fb091e9"
            ],
            "layout": "IPY_MODEL_3f207a4d71324415a984941b373fe45c"
          }
        },
        "91b17401fe26410da1eae54af3a3f4d6": {
          "model_module": "@jupyter-widgets/controls",
          "model_name": "HTMLModel",
          "model_module_version": "1.5.0",
          "state": {
            "_dom_classes": [],
            "_model_module": "@jupyter-widgets/controls",
            "_model_module_version": "1.5.0",
            "_model_name": "HTMLModel",
            "_view_count": null,
            "_view_module": "@jupyter-widgets/controls",
            "_view_module_version": "1.5.0",
            "_view_name": "HTMLView",
            "description": "",
            "description_tooltip": null,
            "layout": "IPY_MODEL_67cf7515d490406f80cab51be29c3e92",
            "placeholder": "​",
            "style": "IPY_MODEL_ae396d1646e441ddaca7866f6c95dea2",
            "value": "Downloading: 100%"
          }
        },
        "9fea121ede094354a7a91d69360e6097": {
          "model_module": "@jupyter-widgets/controls",
          "model_name": "FloatProgressModel",
          "model_module_version": "1.5.0",
          "state": {
            "_dom_classes": [],
            "_model_module": "@jupyter-widgets/controls",
            "_model_module_version": "1.5.0",
            "_model_name": "FloatProgressModel",
            "_view_count": null,
            "_view_module": "@jupyter-widgets/controls",
            "_view_module_version": "1.5.0",
            "_view_name": "ProgressView",
            "bar_style": "success",
            "description": "",
            "description_tooltip": null,
            "layout": "IPY_MODEL_28197bd8bb4c45128cb1f0beb9c093f0",
            "max": 125,
            "min": 0,
            "orientation": "horizontal",
            "style": "IPY_MODEL_e85e9dfc195c479a8aeb5ca5d5dfd105",
            "value": 125
          }
        },
        "4e2f57f87d8e4e8681c5df198fb091e9": {
          "model_module": "@jupyter-widgets/controls",
          "model_name": "HTMLModel",
          "model_module_version": "1.5.0",
          "state": {
            "_dom_classes": [],
            "_model_module": "@jupyter-widgets/controls",
            "_model_module_version": "1.5.0",
            "_model_name": "HTMLModel",
            "_view_count": null,
            "_view_module": "@jupyter-widgets/controls",
            "_view_module_version": "1.5.0",
            "_view_name": "HTMLView",
            "description": "",
            "description_tooltip": null,
            "layout": "IPY_MODEL_f08a984d34d649cdb001eada6a3b9846",
            "placeholder": "​",
            "style": "IPY_MODEL_974a90def4b047ff8943774dc852d65d",
            "value": " 125/125 [00:00&lt;00:00, 4.11kB/s]"
          }
        },
        "3f207a4d71324415a984941b373fe45c": {
          "model_module": "@jupyter-widgets/base",
          "model_name": "LayoutModel",
          "model_module_version": "1.2.0",
          "state": {
            "_model_module": "@jupyter-widgets/base",
            "_model_module_version": "1.2.0",
            "_model_name": "LayoutModel",
            "_view_count": null,
            "_view_module": "@jupyter-widgets/base",
            "_view_module_version": "1.2.0",
            "_view_name": "LayoutView",
            "align_content": null,
            "align_items": null,
            "align_self": null,
            "border": null,
            "bottom": null,
            "display": null,
            "flex": null,
            "flex_flow": null,
            "grid_area": null,
            "grid_auto_columns": null,
            "grid_auto_flow": null,
            "grid_auto_rows": null,
            "grid_column": null,
            "grid_gap": null,
            "grid_row": null,
            "grid_template_areas": null,
            "grid_template_columns": null,
            "grid_template_rows": null,
            "height": null,
            "justify_content": null,
            "justify_items": null,
            "left": null,
            "margin": null,
            "max_height": null,
            "max_width": null,
            "min_height": null,
            "min_width": null,
            "object_fit": null,
            "object_position": null,
            "order": null,
            "overflow": null,
            "overflow_x": null,
            "overflow_y": null,
            "padding": null,
            "right": null,
            "top": null,
            "visibility": null,
            "width": null
          }
        },
        "67cf7515d490406f80cab51be29c3e92": {
          "model_module": "@jupyter-widgets/base",
          "model_name": "LayoutModel",
          "model_module_version": "1.2.0",
          "state": {
            "_model_module": "@jupyter-widgets/base",
            "_model_module_version": "1.2.0",
            "_model_name": "LayoutModel",
            "_view_count": null,
            "_view_module": "@jupyter-widgets/base",
            "_view_module_version": "1.2.0",
            "_view_name": "LayoutView",
            "align_content": null,
            "align_items": null,
            "align_self": null,
            "border": null,
            "bottom": null,
            "display": null,
            "flex": null,
            "flex_flow": null,
            "grid_area": null,
            "grid_auto_columns": null,
            "grid_auto_flow": null,
            "grid_auto_rows": null,
            "grid_column": null,
            "grid_gap": null,
            "grid_row": null,
            "grid_template_areas": null,
            "grid_template_columns": null,
            "grid_template_rows": null,
            "height": null,
            "justify_content": null,
            "justify_items": null,
            "left": null,
            "margin": null,
            "max_height": null,
            "max_width": null,
            "min_height": null,
            "min_width": null,
            "object_fit": null,
            "object_position": null,
            "order": null,
            "overflow": null,
            "overflow_x": null,
            "overflow_y": null,
            "padding": null,
            "right": null,
            "top": null,
            "visibility": null,
            "width": null
          }
        },
        "ae396d1646e441ddaca7866f6c95dea2": {
          "model_module": "@jupyter-widgets/controls",
          "model_name": "DescriptionStyleModel",
          "model_module_version": "1.5.0",
          "state": {
            "_model_module": "@jupyter-widgets/controls",
            "_model_module_version": "1.5.0",
            "_model_name": "DescriptionStyleModel",
            "_view_count": null,
            "_view_module": "@jupyter-widgets/base",
            "_view_module_version": "1.2.0",
            "_view_name": "StyleView",
            "description_width": ""
          }
        },
        "28197bd8bb4c45128cb1f0beb9c093f0": {
          "model_module": "@jupyter-widgets/base",
          "model_name": "LayoutModel",
          "model_module_version": "1.2.0",
          "state": {
            "_model_module": "@jupyter-widgets/base",
            "_model_module_version": "1.2.0",
            "_model_name": "LayoutModel",
            "_view_count": null,
            "_view_module": "@jupyter-widgets/base",
            "_view_module_version": "1.2.0",
            "_view_name": "LayoutView",
            "align_content": null,
            "align_items": null,
            "align_self": null,
            "border": null,
            "bottom": null,
            "display": null,
            "flex": null,
            "flex_flow": null,
            "grid_area": null,
            "grid_auto_columns": null,
            "grid_auto_flow": null,
            "grid_auto_rows": null,
            "grid_column": null,
            "grid_gap": null,
            "grid_row": null,
            "grid_template_areas": null,
            "grid_template_columns": null,
            "grid_template_rows": null,
            "height": null,
            "justify_content": null,
            "justify_items": null,
            "left": null,
            "margin": null,
            "max_height": null,
            "max_width": null,
            "min_height": null,
            "min_width": null,
            "object_fit": null,
            "object_position": null,
            "order": null,
            "overflow": null,
            "overflow_x": null,
            "overflow_y": null,
            "padding": null,
            "right": null,
            "top": null,
            "visibility": null,
            "width": null
          }
        },
        "e85e9dfc195c479a8aeb5ca5d5dfd105": {
          "model_module": "@jupyter-widgets/controls",
          "model_name": "ProgressStyleModel",
          "model_module_version": "1.5.0",
          "state": {
            "_model_module": "@jupyter-widgets/controls",
            "_model_module_version": "1.5.0",
            "_model_name": "ProgressStyleModel",
            "_view_count": null,
            "_view_module": "@jupyter-widgets/base",
            "_view_module_version": "1.2.0",
            "_view_name": "StyleView",
            "bar_color": null,
            "description_width": ""
          }
        },
        "f08a984d34d649cdb001eada6a3b9846": {
          "model_module": "@jupyter-widgets/base",
          "model_name": "LayoutModel",
          "model_module_version": "1.2.0",
          "state": {
            "_model_module": "@jupyter-widgets/base",
            "_model_module_version": "1.2.0",
            "_model_name": "LayoutModel",
            "_view_count": null,
            "_view_module": "@jupyter-widgets/base",
            "_view_module_version": "1.2.0",
            "_view_name": "LayoutView",
            "align_content": null,
            "align_items": null,
            "align_self": null,
            "border": null,
            "bottom": null,
            "display": null,
            "flex": null,
            "flex_flow": null,
            "grid_area": null,
            "grid_auto_columns": null,
            "grid_auto_flow": null,
            "grid_auto_rows": null,
            "grid_column": null,
            "grid_gap": null,
            "grid_row": null,
            "grid_template_areas": null,
            "grid_template_columns": null,
            "grid_template_rows": null,
            "height": null,
            "justify_content": null,
            "justify_items": null,
            "left": null,
            "margin": null,
            "max_height": null,
            "max_width": null,
            "min_height": null,
            "min_width": null,
            "object_fit": null,
            "object_position": null,
            "order": null,
            "overflow": null,
            "overflow_x": null,
            "overflow_y": null,
            "padding": null,
            "right": null,
            "top": null,
            "visibility": null,
            "width": null
          }
        },
        "974a90def4b047ff8943774dc852d65d": {
          "model_module": "@jupyter-widgets/controls",
          "model_name": "DescriptionStyleModel",
          "model_module_version": "1.5.0",
          "state": {
            "_model_module": "@jupyter-widgets/controls",
            "_model_module_version": "1.5.0",
            "_model_name": "DescriptionStyleModel",
            "_view_count": null,
            "_view_module": "@jupyter-widgets/base",
            "_view_module_version": "1.2.0",
            "_view_name": "StyleView",
            "description_width": ""
          }
        },
        "5c6ece06c1174be49669c22a85496f61": {
          "model_module": "@jupyter-widgets/controls",
          "model_name": "HBoxModel",
          "model_module_version": "1.5.0",
          "state": {
            "_dom_classes": [],
            "_model_module": "@jupyter-widgets/controls",
            "_model_module_version": "1.5.0",
            "_model_name": "HBoxModel",
            "_view_count": null,
            "_view_module": "@jupyter-widgets/controls",
            "_view_module_version": "1.5.0",
            "_view_name": "HBoxView",
            "box_style": "",
            "children": [
              "IPY_MODEL_9350b205280d447d8755c95fbc7b1dca",
              "IPY_MODEL_cc231d55ef3946c08ad8b02842e612f5",
              "IPY_MODEL_88882f13aeff445d9138f3af48922fe8"
            ],
            "layout": "IPY_MODEL_63ed5911731241318f3e9186a0403e93"
          }
        },
        "9350b205280d447d8755c95fbc7b1dca": {
          "model_module": "@jupyter-widgets/controls",
          "model_name": "HTMLModel",
          "model_module_version": "1.5.0",
          "state": {
            "_dom_classes": [],
            "_model_module": "@jupyter-widgets/controls",
            "_model_module_version": "1.5.0",
            "_model_name": "HTMLModel",
            "_view_count": null,
            "_view_module": "@jupyter-widgets/controls",
            "_view_module_version": "1.5.0",
            "_view_name": "HTMLView",
            "description": "",
            "description_tooltip": null,
            "layout": "IPY_MODEL_16398981379f4fcaa81afde1f6c2c63b",
            "placeholder": "​",
            "style": "IPY_MODEL_1abef988718840ffa4edded81a5ac7ca",
            "value": "Downloading: 100%"
          }
        },
        "cc231d55ef3946c08ad8b02842e612f5": {
          "model_module": "@jupyter-widgets/controls",
          "model_name": "FloatProgressModel",
          "model_module_version": "1.5.0",
          "state": {
            "_dom_classes": [],
            "_model_module": "@jupyter-widgets/controls",
            "_model_module_version": "1.5.0",
            "_model_name": "FloatProgressModel",
            "_view_count": null,
            "_view_module": "@jupyter-widgets/controls",
            "_view_module_version": "1.5.0",
            "_view_name": "ProgressView",
            "bar_style": "success",
            "description": "",
            "description_tooltip": null,
            "layout": "IPY_MODEL_f96828945d6f4c33839381a127af877e",
            "max": 289,
            "min": 0,
            "orientation": "horizontal",
            "style": "IPY_MODEL_7ca79f61e5dc456288f7a27ce21be886",
            "value": 289
          }
        },
        "88882f13aeff445d9138f3af48922fe8": {
          "model_module": "@jupyter-widgets/controls",
          "model_name": "HTMLModel",
          "model_module_version": "1.5.0",
          "state": {
            "_dom_classes": [],
            "_model_module": "@jupyter-widgets/controls",
            "_model_module_version": "1.5.0",
            "_model_name": "HTMLModel",
            "_view_count": null,
            "_view_module": "@jupyter-widgets/controls",
            "_view_module_version": "1.5.0",
            "_view_name": "HTMLView",
            "description": "",
            "description_tooltip": null,
            "layout": "IPY_MODEL_78be2923ca2b4c08bb06a5cb95ba5d4b",
            "placeholder": "​",
            "style": "IPY_MODEL_88f7fc5d08a841d48060e309732ac0d4",
            "value": " 289/289 [00:00&lt;00:00, 8.45kB/s]"
          }
        },
        "63ed5911731241318f3e9186a0403e93": {
          "model_module": "@jupyter-widgets/base",
          "model_name": "LayoutModel",
          "model_module_version": "1.2.0",
          "state": {
            "_model_module": "@jupyter-widgets/base",
            "_model_module_version": "1.2.0",
            "_model_name": "LayoutModel",
            "_view_count": null,
            "_view_module": "@jupyter-widgets/base",
            "_view_module_version": "1.2.0",
            "_view_name": "LayoutView",
            "align_content": null,
            "align_items": null,
            "align_self": null,
            "border": null,
            "bottom": null,
            "display": null,
            "flex": null,
            "flex_flow": null,
            "grid_area": null,
            "grid_auto_columns": null,
            "grid_auto_flow": null,
            "grid_auto_rows": null,
            "grid_column": null,
            "grid_gap": null,
            "grid_row": null,
            "grid_template_areas": null,
            "grid_template_columns": null,
            "grid_template_rows": null,
            "height": null,
            "justify_content": null,
            "justify_items": null,
            "left": null,
            "margin": null,
            "max_height": null,
            "max_width": null,
            "min_height": null,
            "min_width": null,
            "object_fit": null,
            "object_position": null,
            "order": null,
            "overflow": null,
            "overflow_x": null,
            "overflow_y": null,
            "padding": null,
            "right": null,
            "top": null,
            "visibility": null,
            "width": null
          }
        },
        "16398981379f4fcaa81afde1f6c2c63b": {
          "model_module": "@jupyter-widgets/base",
          "model_name": "LayoutModel",
          "model_module_version": "1.2.0",
          "state": {
            "_model_module": "@jupyter-widgets/base",
            "_model_module_version": "1.2.0",
            "_model_name": "LayoutModel",
            "_view_count": null,
            "_view_module": "@jupyter-widgets/base",
            "_view_module_version": "1.2.0",
            "_view_name": "LayoutView",
            "align_content": null,
            "align_items": null,
            "align_self": null,
            "border": null,
            "bottom": null,
            "display": null,
            "flex": null,
            "flex_flow": null,
            "grid_area": null,
            "grid_auto_columns": null,
            "grid_auto_flow": null,
            "grid_auto_rows": null,
            "grid_column": null,
            "grid_gap": null,
            "grid_row": null,
            "grid_template_areas": null,
            "grid_template_columns": null,
            "grid_template_rows": null,
            "height": null,
            "justify_content": null,
            "justify_items": null,
            "left": null,
            "margin": null,
            "max_height": null,
            "max_width": null,
            "min_height": null,
            "min_width": null,
            "object_fit": null,
            "object_position": null,
            "order": null,
            "overflow": null,
            "overflow_x": null,
            "overflow_y": null,
            "padding": null,
            "right": null,
            "top": null,
            "visibility": null,
            "width": null
          }
        },
        "1abef988718840ffa4edded81a5ac7ca": {
          "model_module": "@jupyter-widgets/controls",
          "model_name": "DescriptionStyleModel",
          "model_module_version": "1.5.0",
          "state": {
            "_model_module": "@jupyter-widgets/controls",
            "_model_module_version": "1.5.0",
            "_model_name": "DescriptionStyleModel",
            "_view_count": null,
            "_view_module": "@jupyter-widgets/base",
            "_view_module_version": "1.2.0",
            "_view_name": "StyleView",
            "description_width": ""
          }
        },
        "f96828945d6f4c33839381a127af877e": {
          "model_module": "@jupyter-widgets/base",
          "model_name": "LayoutModel",
          "model_module_version": "1.2.0",
          "state": {
            "_model_module": "@jupyter-widgets/base",
            "_model_module_version": "1.2.0",
            "_model_name": "LayoutModel",
            "_view_count": null,
            "_view_module": "@jupyter-widgets/base",
            "_view_module_version": "1.2.0",
            "_view_name": "LayoutView",
            "align_content": null,
            "align_items": null,
            "align_self": null,
            "border": null,
            "bottom": null,
            "display": null,
            "flex": null,
            "flex_flow": null,
            "grid_area": null,
            "grid_auto_columns": null,
            "grid_auto_flow": null,
            "grid_auto_rows": null,
            "grid_column": null,
            "grid_gap": null,
            "grid_row": null,
            "grid_template_areas": null,
            "grid_template_columns": null,
            "grid_template_rows": null,
            "height": null,
            "justify_content": null,
            "justify_items": null,
            "left": null,
            "margin": null,
            "max_height": null,
            "max_width": null,
            "min_height": null,
            "min_width": null,
            "object_fit": null,
            "object_position": null,
            "order": null,
            "overflow": null,
            "overflow_x": null,
            "overflow_y": null,
            "padding": null,
            "right": null,
            "top": null,
            "visibility": null,
            "width": null
          }
        },
        "7ca79f61e5dc456288f7a27ce21be886": {
          "model_module": "@jupyter-widgets/controls",
          "model_name": "ProgressStyleModel",
          "model_module_version": "1.5.0",
          "state": {
            "_model_module": "@jupyter-widgets/controls",
            "_model_module_version": "1.5.0",
            "_model_name": "ProgressStyleModel",
            "_view_count": null,
            "_view_module": "@jupyter-widgets/base",
            "_view_module_version": "1.2.0",
            "_view_name": "StyleView",
            "bar_color": null,
            "description_width": ""
          }
        },
        "78be2923ca2b4c08bb06a5cb95ba5d4b": {
          "model_module": "@jupyter-widgets/base",
          "model_name": "LayoutModel",
          "model_module_version": "1.2.0",
          "state": {
            "_model_module": "@jupyter-widgets/base",
            "_model_module_version": "1.2.0",
            "_model_name": "LayoutModel",
            "_view_count": null,
            "_view_module": "@jupyter-widgets/base",
            "_view_module_version": "1.2.0",
            "_view_name": "LayoutView",
            "align_content": null,
            "align_items": null,
            "align_self": null,
            "border": null,
            "bottom": null,
            "display": null,
            "flex": null,
            "flex_flow": null,
            "grid_area": null,
            "grid_auto_columns": null,
            "grid_auto_flow": null,
            "grid_auto_rows": null,
            "grid_column": null,
            "grid_gap": null,
            "grid_row": null,
            "grid_template_areas": null,
            "grid_template_columns": null,
            "grid_template_rows": null,
            "height": null,
            "justify_content": null,
            "justify_items": null,
            "left": null,
            "margin": null,
            "max_height": null,
            "max_width": null,
            "min_height": null,
            "min_width": null,
            "object_fit": null,
            "object_position": null,
            "order": null,
            "overflow": null,
            "overflow_x": null,
            "overflow_y": null,
            "padding": null,
            "right": null,
            "top": null,
            "visibility": null,
            "width": null
          }
        },
        "88f7fc5d08a841d48060e309732ac0d4": {
          "model_module": "@jupyter-widgets/controls",
          "model_name": "DescriptionStyleModel",
          "model_module_version": "1.5.0",
          "state": {
            "_model_module": "@jupyter-widgets/controls",
            "_model_module_version": "1.5.0",
            "_model_name": "DescriptionStyleModel",
            "_view_count": null,
            "_view_module": "@jupyter-widgets/base",
            "_view_module_version": "1.2.0",
            "_view_name": "StyleView",
            "description_width": ""
          }
        },
        "0c731aac31db40068e288d5279eabc97": {
          "model_module": "@jupyter-widgets/controls",
          "model_name": "HBoxModel",
          "model_module_version": "1.5.0",
          "state": {
            "_dom_classes": [],
            "_model_module": "@jupyter-widgets/controls",
            "_model_module_version": "1.5.0",
            "_model_name": "HBoxModel",
            "_view_count": null,
            "_view_module": "@jupyter-widgets/controls",
            "_view_module_version": "1.5.0",
            "_view_name": "HBoxView",
            "box_style": "",
            "children": [
              "IPY_MODEL_025ccfb721b74191801db0ba9888f1f1",
              "IPY_MODEL_3fc796c372b44b739fdd4edf1c18c28d",
              "IPY_MODEL_4c102bf6e8da479fa471ce0f87ca446b"
            ],
            "layout": "IPY_MODEL_172aa9b1f6c840c9b99e34ddb31fe63f"
          }
        },
        "025ccfb721b74191801db0ba9888f1f1": {
          "model_module": "@jupyter-widgets/controls",
          "model_name": "HTMLModel",
          "model_module_version": "1.5.0",
          "state": {
            "_dom_classes": [],
            "_model_module": "@jupyter-widgets/controls",
            "_model_module_version": "1.5.0",
            "_model_name": "HTMLModel",
            "_view_count": null,
            "_view_module": "@jupyter-widgets/controls",
            "_view_module_version": "1.5.0",
            "_view_name": "HTMLView",
            "description": "",
            "description_tooltip": null,
            "layout": "IPY_MODEL_c4e92522534f41f2bbb3f0664560ba18",
            "placeholder": "​",
            "style": "IPY_MODEL_b27c922042d242a99288470b25b5fb25",
            "value": "Downloading: 100%"
          }
        },
        "3fc796c372b44b739fdd4edf1c18c28d": {
          "model_module": "@jupyter-widgets/controls",
          "model_name": "FloatProgressModel",
          "model_module_version": "1.5.0",
          "state": {
            "_dom_classes": [],
            "_model_module": "@jupyter-widgets/controls",
            "_model_module_version": "1.5.0",
            "_model_name": "FloatProgressModel",
            "_view_count": null,
            "_view_module": "@jupyter-widgets/controls",
            "_view_module_version": "1.5.0",
            "_view_name": "ProgressView",
            "bar_style": "success",
            "description": "",
            "description_tooltip": null,
            "layout": "IPY_MODEL_2c0f0c83e4be409ebe036446610cde67",
            "max": 425,
            "min": 0,
            "orientation": "horizontal",
            "style": "IPY_MODEL_f1c3e397881a4727a2880bda1f58b13d",
            "value": 425
          }
        },
        "4c102bf6e8da479fa471ce0f87ca446b": {
          "model_module": "@jupyter-widgets/controls",
          "model_name": "HTMLModel",
          "model_module_version": "1.5.0",
          "state": {
            "_dom_classes": [],
            "_model_module": "@jupyter-widgets/controls",
            "_model_module_version": "1.5.0",
            "_model_name": "HTMLModel",
            "_view_count": null,
            "_view_module": "@jupyter-widgets/controls",
            "_view_module_version": "1.5.0",
            "_view_name": "HTMLView",
            "description": "",
            "description_tooltip": null,
            "layout": "IPY_MODEL_a86a5f01982a4a4a8ed7a2ddcc3c4e1f",
            "placeholder": "​",
            "style": "IPY_MODEL_bbe6bffdede246b3b25648ffdbd33967",
            "value": " 425/425 [00:00&lt;00:00, 12.4kB/s]"
          }
        },
        "172aa9b1f6c840c9b99e34ddb31fe63f": {
          "model_module": "@jupyter-widgets/base",
          "model_name": "LayoutModel",
          "model_module_version": "1.2.0",
          "state": {
            "_model_module": "@jupyter-widgets/base",
            "_model_module_version": "1.2.0",
            "_model_name": "LayoutModel",
            "_view_count": null,
            "_view_module": "@jupyter-widgets/base",
            "_view_module_version": "1.2.0",
            "_view_name": "LayoutView",
            "align_content": null,
            "align_items": null,
            "align_self": null,
            "border": null,
            "bottom": null,
            "display": null,
            "flex": null,
            "flex_flow": null,
            "grid_area": null,
            "grid_auto_columns": null,
            "grid_auto_flow": null,
            "grid_auto_rows": null,
            "grid_column": null,
            "grid_gap": null,
            "grid_row": null,
            "grid_template_areas": null,
            "grid_template_columns": null,
            "grid_template_rows": null,
            "height": null,
            "justify_content": null,
            "justify_items": null,
            "left": null,
            "margin": null,
            "max_height": null,
            "max_width": null,
            "min_height": null,
            "min_width": null,
            "object_fit": null,
            "object_position": null,
            "order": null,
            "overflow": null,
            "overflow_x": null,
            "overflow_y": null,
            "padding": null,
            "right": null,
            "top": null,
            "visibility": null,
            "width": null
          }
        },
        "c4e92522534f41f2bbb3f0664560ba18": {
          "model_module": "@jupyter-widgets/base",
          "model_name": "LayoutModel",
          "model_module_version": "1.2.0",
          "state": {
            "_model_module": "@jupyter-widgets/base",
            "_model_module_version": "1.2.0",
            "_model_name": "LayoutModel",
            "_view_count": null,
            "_view_module": "@jupyter-widgets/base",
            "_view_module_version": "1.2.0",
            "_view_name": "LayoutView",
            "align_content": null,
            "align_items": null,
            "align_self": null,
            "border": null,
            "bottom": null,
            "display": null,
            "flex": null,
            "flex_flow": null,
            "grid_area": null,
            "grid_auto_columns": null,
            "grid_auto_flow": null,
            "grid_auto_rows": null,
            "grid_column": null,
            "grid_gap": null,
            "grid_row": null,
            "grid_template_areas": null,
            "grid_template_columns": null,
            "grid_template_rows": null,
            "height": null,
            "justify_content": null,
            "justify_items": null,
            "left": null,
            "margin": null,
            "max_height": null,
            "max_width": null,
            "min_height": null,
            "min_width": null,
            "object_fit": null,
            "object_position": null,
            "order": null,
            "overflow": null,
            "overflow_x": null,
            "overflow_y": null,
            "padding": null,
            "right": null,
            "top": null,
            "visibility": null,
            "width": null
          }
        },
        "b27c922042d242a99288470b25b5fb25": {
          "model_module": "@jupyter-widgets/controls",
          "model_name": "DescriptionStyleModel",
          "model_module_version": "1.5.0",
          "state": {
            "_model_module": "@jupyter-widgets/controls",
            "_model_module_version": "1.5.0",
            "_model_name": "DescriptionStyleModel",
            "_view_count": null,
            "_view_module": "@jupyter-widgets/base",
            "_view_module_version": "1.2.0",
            "_view_name": "StyleView",
            "description_width": ""
          }
        },
        "2c0f0c83e4be409ebe036446610cde67": {
          "model_module": "@jupyter-widgets/base",
          "model_name": "LayoutModel",
          "model_module_version": "1.2.0",
          "state": {
            "_model_module": "@jupyter-widgets/base",
            "_model_module_version": "1.2.0",
            "_model_name": "LayoutModel",
            "_view_count": null,
            "_view_module": "@jupyter-widgets/base",
            "_view_module_version": "1.2.0",
            "_view_name": "LayoutView",
            "align_content": null,
            "align_items": null,
            "align_self": null,
            "border": null,
            "bottom": null,
            "display": null,
            "flex": null,
            "flex_flow": null,
            "grid_area": null,
            "grid_auto_columns": null,
            "grid_auto_flow": null,
            "grid_auto_rows": null,
            "grid_column": null,
            "grid_gap": null,
            "grid_row": null,
            "grid_template_areas": null,
            "grid_template_columns": null,
            "grid_template_rows": null,
            "height": null,
            "justify_content": null,
            "justify_items": null,
            "left": null,
            "margin": null,
            "max_height": null,
            "max_width": null,
            "min_height": null,
            "min_width": null,
            "object_fit": null,
            "object_position": null,
            "order": null,
            "overflow": null,
            "overflow_x": null,
            "overflow_y": null,
            "padding": null,
            "right": null,
            "top": null,
            "visibility": null,
            "width": null
          }
        },
        "f1c3e397881a4727a2880bda1f58b13d": {
          "model_module": "@jupyter-widgets/controls",
          "model_name": "ProgressStyleModel",
          "model_module_version": "1.5.0",
          "state": {
            "_model_module": "@jupyter-widgets/controls",
            "_model_module_version": "1.5.0",
            "_model_name": "ProgressStyleModel",
            "_view_count": null,
            "_view_module": "@jupyter-widgets/base",
            "_view_module_version": "1.2.0",
            "_view_name": "StyleView",
            "bar_color": null,
            "description_width": ""
          }
        },
        "a86a5f01982a4a4a8ed7a2ddcc3c4e1f": {
          "model_module": "@jupyter-widgets/base",
          "model_name": "LayoutModel",
          "model_module_version": "1.2.0",
          "state": {
            "_model_module": "@jupyter-widgets/base",
            "_model_module_version": "1.2.0",
            "_model_name": "LayoutModel",
            "_view_count": null,
            "_view_module": "@jupyter-widgets/base",
            "_view_module_version": "1.2.0",
            "_view_name": "LayoutView",
            "align_content": null,
            "align_items": null,
            "align_self": null,
            "border": null,
            "bottom": null,
            "display": null,
            "flex": null,
            "flex_flow": null,
            "grid_area": null,
            "grid_auto_columns": null,
            "grid_auto_flow": null,
            "grid_auto_rows": null,
            "grid_column": null,
            "grid_gap": null,
            "grid_row": null,
            "grid_template_areas": null,
            "grid_template_columns": null,
            "grid_template_rows": null,
            "height": null,
            "justify_content": null,
            "justify_items": null,
            "left": null,
            "margin": null,
            "max_height": null,
            "max_width": null,
            "min_height": null,
            "min_width": null,
            "object_fit": null,
            "object_position": null,
            "order": null,
            "overflow": null,
            "overflow_x": null,
            "overflow_y": null,
            "padding": null,
            "right": null,
            "top": null,
            "visibility": null,
            "width": null
          }
        },
        "bbe6bffdede246b3b25648ffdbd33967": {
          "model_module": "@jupyter-widgets/controls",
          "model_name": "DescriptionStyleModel",
          "model_module_version": "1.5.0",
          "state": {
            "_model_module": "@jupyter-widgets/controls",
            "_model_module_version": "1.5.0",
            "_model_name": "DescriptionStyleModel",
            "_view_count": null,
            "_view_module": "@jupyter-widgets/base",
            "_view_module_version": "1.2.0",
            "_view_name": "StyleView",
            "description_width": ""
          }
        },
        "7d30aaae179942da9c43c6c178a11d1f": {
          "model_module": "@jupyter-widgets/controls",
          "model_name": "HBoxModel",
          "model_module_version": "1.5.0",
          "state": {
            "_dom_classes": [],
            "_model_module": "@jupyter-widgets/controls",
            "_model_module_version": "1.5.0",
            "_model_name": "HBoxModel",
            "_view_count": null,
            "_view_module": "@jupyter-widgets/controls",
            "_view_module_version": "1.5.0",
            "_view_name": "HBoxView",
            "box_style": "",
            "children": [
              "IPY_MODEL_8c4e337d2b27499db076f880ba4afd43",
              "IPY_MODEL_abe558894d5a4303be5a428df9b396d3",
              "IPY_MODEL_a7948f6553984075bb5bf8b47e49f84b"
            ],
            "layout": "IPY_MODEL_d50c1bfdda094c808a35e751a6c86859"
          }
        },
        "8c4e337d2b27499db076f880ba4afd43": {
          "model_module": "@jupyter-widgets/controls",
          "model_name": "HTMLModel",
          "model_module_version": "1.5.0",
          "state": {
            "_dom_classes": [],
            "_model_module": "@jupyter-widgets/controls",
            "_model_module_version": "1.5.0",
            "_model_name": "HTMLModel",
            "_view_count": null,
            "_view_module": "@jupyter-widgets/controls",
            "_view_module_version": "1.5.0",
            "_view_name": "HTMLView",
            "description": "",
            "description_tooltip": null,
            "layout": "IPY_MODEL_39ecd40dde9a4b409db99748c0c08d7e",
            "placeholder": "​",
            "style": "IPY_MODEL_fa7ad33c43054af3b967703e9f12fc28",
            "value": "Downloading: 100%"
          }
        },
        "abe558894d5a4303be5a428df9b396d3": {
          "model_module": "@jupyter-widgets/controls",
          "model_name": "FloatProgressModel",
          "model_module_version": "1.5.0",
          "state": {
            "_dom_classes": [],
            "_model_module": "@jupyter-widgets/controls",
            "_model_module_version": "1.5.0",
            "_model_name": "FloatProgressModel",
            "_view_count": null,
            "_view_module": "@jupyter-widgets/controls",
            "_view_module_version": "1.5.0",
            "_view_name": "ProgressView",
            "bar_style": "success",
            "description": "",
            "description_tooltip": null,
            "layout": "IPY_MODEL_de6fcbf05fc84652ba6005876d5d0935",
            "max": 445025130,
            "min": 0,
            "orientation": "horizontal",
            "style": "IPY_MODEL_87e22463b1584d73b3f91652e30ac231",
            "value": 445025130
          }
        },
        "a7948f6553984075bb5bf8b47e49f84b": {
          "model_module": "@jupyter-widgets/controls",
          "model_name": "HTMLModel",
          "model_module_version": "1.5.0",
          "state": {
            "_dom_classes": [],
            "_model_module": "@jupyter-widgets/controls",
            "_model_module_version": "1.5.0",
            "_model_name": "HTMLModel",
            "_view_count": null,
            "_view_module": "@jupyter-widgets/controls",
            "_view_module_version": "1.5.0",
            "_view_name": "HTMLView",
            "description": "",
            "description_tooltip": null,
            "layout": "IPY_MODEL_201dc5002e3f4e09940c656639e53723",
            "placeholder": "​",
            "style": "IPY_MODEL_b688d5ef95194c8fa40fffbca6f52de3",
            "value": " 424M/424M [00:08&lt;00:00, 51.9MB/s]"
          }
        },
        "d50c1bfdda094c808a35e751a6c86859": {
          "model_module": "@jupyter-widgets/base",
          "model_name": "LayoutModel",
          "model_module_version": "1.2.0",
          "state": {
            "_model_module": "@jupyter-widgets/base",
            "_model_module_version": "1.2.0",
            "_model_name": "LayoutModel",
            "_view_count": null,
            "_view_module": "@jupyter-widgets/base",
            "_view_module_version": "1.2.0",
            "_view_name": "LayoutView",
            "align_content": null,
            "align_items": null,
            "align_self": null,
            "border": null,
            "bottom": null,
            "display": null,
            "flex": null,
            "flex_flow": null,
            "grid_area": null,
            "grid_auto_columns": null,
            "grid_auto_flow": null,
            "grid_auto_rows": null,
            "grid_column": null,
            "grid_gap": null,
            "grid_row": null,
            "grid_template_areas": null,
            "grid_template_columns": null,
            "grid_template_rows": null,
            "height": null,
            "justify_content": null,
            "justify_items": null,
            "left": null,
            "margin": null,
            "max_height": null,
            "max_width": null,
            "min_height": null,
            "min_width": null,
            "object_fit": null,
            "object_position": null,
            "order": null,
            "overflow": null,
            "overflow_x": null,
            "overflow_y": null,
            "padding": null,
            "right": null,
            "top": null,
            "visibility": null,
            "width": null
          }
        },
        "39ecd40dde9a4b409db99748c0c08d7e": {
          "model_module": "@jupyter-widgets/base",
          "model_name": "LayoutModel",
          "model_module_version": "1.2.0",
          "state": {
            "_model_module": "@jupyter-widgets/base",
            "_model_module_version": "1.2.0",
            "_model_name": "LayoutModel",
            "_view_count": null,
            "_view_module": "@jupyter-widgets/base",
            "_view_module_version": "1.2.0",
            "_view_name": "LayoutView",
            "align_content": null,
            "align_items": null,
            "align_self": null,
            "border": null,
            "bottom": null,
            "display": null,
            "flex": null,
            "flex_flow": null,
            "grid_area": null,
            "grid_auto_columns": null,
            "grid_auto_flow": null,
            "grid_auto_rows": null,
            "grid_column": null,
            "grid_gap": null,
            "grid_row": null,
            "grid_template_areas": null,
            "grid_template_columns": null,
            "grid_template_rows": null,
            "height": null,
            "justify_content": null,
            "justify_items": null,
            "left": null,
            "margin": null,
            "max_height": null,
            "max_width": null,
            "min_height": null,
            "min_width": null,
            "object_fit": null,
            "object_position": null,
            "order": null,
            "overflow": null,
            "overflow_x": null,
            "overflow_y": null,
            "padding": null,
            "right": null,
            "top": null,
            "visibility": null,
            "width": null
          }
        },
        "fa7ad33c43054af3b967703e9f12fc28": {
          "model_module": "@jupyter-widgets/controls",
          "model_name": "DescriptionStyleModel",
          "model_module_version": "1.5.0",
          "state": {
            "_model_module": "@jupyter-widgets/controls",
            "_model_module_version": "1.5.0",
            "_model_name": "DescriptionStyleModel",
            "_view_count": null,
            "_view_module": "@jupyter-widgets/base",
            "_view_module_version": "1.2.0",
            "_view_name": "StyleView",
            "description_width": ""
          }
        },
        "de6fcbf05fc84652ba6005876d5d0935": {
          "model_module": "@jupyter-widgets/base",
          "model_name": "LayoutModel",
          "model_module_version": "1.2.0",
          "state": {
            "_model_module": "@jupyter-widgets/base",
            "_model_module_version": "1.2.0",
            "_model_name": "LayoutModel",
            "_view_count": null,
            "_view_module": "@jupyter-widgets/base",
            "_view_module_version": "1.2.0",
            "_view_name": "LayoutView",
            "align_content": null,
            "align_items": null,
            "align_self": null,
            "border": null,
            "bottom": null,
            "display": null,
            "flex": null,
            "flex_flow": null,
            "grid_area": null,
            "grid_auto_columns": null,
            "grid_auto_flow": null,
            "grid_auto_rows": null,
            "grid_column": null,
            "grid_gap": null,
            "grid_row": null,
            "grid_template_areas": null,
            "grid_template_columns": null,
            "grid_template_rows": null,
            "height": null,
            "justify_content": null,
            "justify_items": null,
            "left": null,
            "margin": null,
            "max_height": null,
            "max_width": null,
            "min_height": null,
            "min_width": null,
            "object_fit": null,
            "object_position": null,
            "order": null,
            "overflow": null,
            "overflow_x": null,
            "overflow_y": null,
            "padding": null,
            "right": null,
            "top": null,
            "visibility": null,
            "width": null
          }
        },
        "87e22463b1584d73b3f91652e30ac231": {
          "model_module": "@jupyter-widgets/controls",
          "model_name": "ProgressStyleModel",
          "model_module_version": "1.5.0",
          "state": {
            "_model_module": "@jupyter-widgets/controls",
            "_model_module_version": "1.5.0",
            "_model_name": "ProgressStyleModel",
            "_view_count": null,
            "_view_module": "@jupyter-widgets/base",
            "_view_module_version": "1.2.0",
            "_view_name": "StyleView",
            "bar_color": null,
            "description_width": ""
          }
        },
        "201dc5002e3f4e09940c656639e53723": {
          "model_module": "@jupyter-widgets/base",
          "model_name": "LayoutModel",
          "model_module_version": "1.2.0",
          "state": {
            "_model_module": "@jupyter-widgets/base",
            "_model_module_version": "1.2.0",
            "_model_name": "LayoutModel",
            "_view_count": null,
            "_view_module": "@jupyter-widgets/base",
            "_view_module_version": "1.2.0",
            "_view_name": "LayoutView",
            "align_content": null,
            "align_items": null,
            "align_self": null,
            "border": null,
            "bottom": null,
            "display": null,
            "flex": null,
            "flex_flow": null,
            "grid_area": null,
            "grid_auto_columns": null,
            "grid_auto_flow": null,
            "grid_auto_rows": null,
            "grid_column": null,
            "grid_gap": null,
            "grid_row": null,
            "grid_template_areas": null,
            "grid_template_columns": null,
            "grid_template_rows": null,
            "height": null,
            "justify_content": null,
            "justify_items": null,
            "left": null,
            "margin": null,
            "max_height": null,
            "max_width": null,
            "min_height": null,
            "min_width": null,
            "object_fit": null,
            "object_position": null,
            "order": null,
            "overflow": null,
            "overflow_x": null,
            "overflow_y": null,
            "padding": null,
            "right": null,
            "top": null,
            "visibility": null,
            "width": null
          }
        },
        "b688d5ef95194c8fa40fffbca6f52de3": {
          "model_module": "@jupyter-widgets/controls",
          "model_name": "DescriptionStyleModel",
          "model_module_version": "1.5.0",
          "state": {
            "_model_module": "@jupyter-widgets/controls",
            "_model_module_version": "1.5.0",
            "_model_name": "DescriptionStyleModel",
            "_view_count": null,
            "_view_module": "@jupyter-widgets/base",
            "_view_module_version": "1.2.0",
            "_view_name": "StyleView",
            "description_width": ""
          }
        }
      }
    }
  },
  "nbformat": 4,
  "nbformat_minor": 0
}